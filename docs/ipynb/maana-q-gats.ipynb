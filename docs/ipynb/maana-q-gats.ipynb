{
 "cells": [
  {
   "source": [
    "# Maana Q: Knowledge and Reasoning Platform"
   ],
   "cell_type": "markdown",
   "metadata": {}
  },
  {
   "cell_type": "markdown",
   "metadata": {},
   "source": [
    "## Installation"
   ]
  },
  {
   "cell_type": "code",
   "execution_count": 33,
   "metadata": {},
   "outputs": [
    {
     "output_type": "stream",
     "name": "stderr",
     "text": [
      "\u001b[32m\u001b[1m  Resolving\u001b[22m\u001b[39m package versions...\n",
      "\u001b[32m\u001b[1mNo Changes\u001b[22m\u001b[39m to `~/src/muziq/CatML.jl/Project.toml`\n",
      "\u001b[32m\u001b[1mNo Changes\u001b[22m\u001b[39m to `~/src/muziq/CatML.jl/Manifest.toml`\n",
      "\u001b[32m\u001b[1m  Resolving\u001b[22m\u001b[39m package versions...\n",
      "\u001b[32m\u001b[1mNo Changes\u001b[22m\u001b[39m to `~/src/muziq/CatML.jl/Project.toml`\n",
      "\u001b[32m\u001b[1mNo Changes\u001b[22m\u001b[39m to `~/src/muziq/CatML.jl/Manifest.toml`\n"
     ]
    }
   ],
   "source": [
    "using Pkg\n",
    "Pkg.add(\"TikzGraphs\")\n",
    "Pkg.add(\"LightGraphs\")"
   ]
  },
  {
   "source": [
    "## Applied Category Theory using GATs"
   ],
   "cell_type": "markdown",
   "metadata": {}
  },
  {
   "source": [
    "### Two views on category theory and software [^Patterson1]\n",
    "\n",
    "1. Designing with categories: CT informing the design, architecture, and implementation of computer programs, in any domain.\n",
    "\n",
    "**Slogan**: *Design patterns, but better*\n",
    "\n",
    "2. Computing on categories: data structures and algorithms for computing with objects and morphisms in categories.\n",
    "\n",
    "**Slogan**: *Computer algebra of categories* or *computational category theory*\n",
    "\n",
    "**These are orthogonal [and can be layered].**\n",
    "\n",
    "!!! tip\n",
    "\tThis notebook is about how to use Q for computational category theory (mostly).\n",
    "\n",
    "[^Patterson1]: [Evan Patterson: Realizing Applied Category Theory in Julia](https://www.youtube.com/watch?v=7dmrDYQh4rc)"
   ],
   "cell_type": "markdown",
   "metadata": {}
  },
  {
   "source": [
    "### Representing morphisms in monoidal categories"
   ],
   "cell_type": "markdown",
   "metadata": {}
  },
  {
   "source": [
    "Transforming between different **computational representations** of morphisms in symmetric monoidal categories."
   ],
   "cell_type": "markdown",
   "metadata": {}
  },
  {
   "cell_type": "code",
   "execution_count": 2,
   "metadata": {},
   "outputs": [
    {
     "output_type": "error",
     "ename": "Error",
     "evalue": "Jupyter cannot be started. Error attempting to locate jupyter: Data Science libraries jupyter and notebook are not installed in interpreter Python 3.8.5 64-bit.",
     "traceback": [
      "Error: Jupyter cannot be started. Error attempting to locate jupyter: Data Science libraries jupyter and notebook are not installed in interpreter Python 3.8.5 64-bit.",
      "at b.startServer (/home/donald/.vscode-server/extensions/ms-python.python-2020.9.114305/out/client/extension.js:56:315285)",
      "at runMicrotasks (<anonymous>)",
      "at processTicksAndRejections (internal/process/task_queues.js:94:5)",
      "at async b.createServer (/home/donald/.vscode-server/extensions/ms-python.python-2020.9.114305/out/client/extension.js:56:314727)",
      "at async connect (/home/donald/.vscode-server/extensions/ms-python.python-2020.9.114305/out/client/extension.js:56:442892)",
      "at async f.ensureConnectionAndNotebookImpl (/home/donald/.vscode-server/extensions/ms-python.python-2020.9.114305/out/client/extension.js:32:92535)",
      "at async f.ensureConnectionAndNotebook (/home/donald/.vscode-server/extensions/ms-python.python-2020.9.114305/out/client/extension.js:32:90897)",
      "at async f.clearResult (/home/donald/.vscode-server/extensions/ms-python.python-2020.9.114305/out/client/extension.js:32:86569)",
      "at async f.reexecuteCell (/home/donald/.vscode-server/extensions/ms-python.python-2020.9.114305/out/client/extension.js:9:134551)",
      "at async f.reexecuteCells (/home/donald/.vscode-server/extensions/ms-python.python-2020.9.114305/out/client/extension.js:9:130897)"
     ]
    }
   ],
   "source": [
    "using TikzGraphs\n",
    "using LightGraphs\n",
    "g = DiGraph(3)\n",
    "add_edge!(g, 1, 2)\n",
    "add_edge!(g, 2, 1)\n",
    "add_edge!(g, 2, 3)\n",
    "add_edge!(g, 3, 1)\n",
    "TikzGraphs.plot(g, node_style=\"\", options=\"scale=2, font=\\\\huge\\\\sf\", TikzGraphs.Layouts.SpringElectrical(charge=25,dist=35), [\"Wiring diagrams\", \"Symbolic expressions\", \"Q Function Graphs\"], edge_labels=Dict((2,3)=>\"Compilation\", (3,1)=>\"Parsing\"))"
   ]
  },
  {
   "source": [
    "## Theories and Signatures\n",
    "\n",
    "An algebraic structure consists of 3 things:\n",
    "\n",
    "1. **Sorts**: what \"sort\" of things is it about\n",
    "1. **Operations**: what \"actions\" can be taken on the sorts\n",
    "1. **Equations**: what \"laws\" must hold for the use of the operations on the sorts\n",
    "\n",
    "A **signature** is the pairing of sorts and operations.  A **theory** is a pairing of the signature and the equations."
   ],
   "cell_type": "markdown",
   "metadata": {}
  },
  {
   "source": [
    "![](https://raw.githubusercontent.com/mu-ziq/CatML.jl/wip/docs/gh-deploy/dist/images/maana-q-gats/theory-signature.png)"
   ],
   "cell_type": "markdown",
   "metadata": {}
  },
  {
   "source": [
    "## Theory: `Category`\n",
    "\n",
    "* **Service URI**: `/maana-cat-category`\n",
    "\n",
    "![](https://raw.githubusercontent.com/mu-ziq/CatML.jl/wip/docs/gh-deploy/dist/images/maana-q-gats/category-theory.png)"
   ],
   "cell_type": "markdown",
   "metadata": {}
  },
  {
   "source": [
    "### Equation: `isAssociative`\n",
    "\n",
    "![](https://raw.githubusercontent.com/mu-ziq/CatML.jl/wip/docs/gh-deploy/dist/images/maana-q-gats/category-is-associative.png)"
   ],
   "cell_type": "markdown",
   "metadata": {}
  },
  {
   "source": [
    "### Equation: `isUnital`\n",
    "\n",
    "![](https://raw.githubusercontent.com/mu-ziq/CatML.jl/wip/docs/gh-deploy/dist/images/maana-q-gats/category-is-unital.png)"
   ],
   "cell_type": "markdown",
   "metadata": {}
  },
  {
   "source": [
    "## Theory: `Monoid`\n",
    "\n",
    "* **Service URI**: `/maana-cat-monoid`\n",
    "\n",
    "![](https://raw.githubusercontent.com/mu-ziq/CatML.jl/wip/docs/gh-deploy/dist/images/maana-q-gats/monoid-theory.png)"
   ],
   "cell_type": "markdown",
   "metadata": {}
  },
  {
   "source": [
    "### Equation: `isAssociative`\n",
    "\n",
    "![](https://raw.githubusercontent.com/mu-ziq/CatML.jl/wip/docs/gh-deploy/dist/images/maana-q-gats/monoid-is-associative.png)"
   ],
   "cell_type": "markdown",
   "metadata": {}
  },
  {
   "source": [
    "### Equation: `isUnital`\n",
    "\n",
    "![](https://raw.githubusercontent.com/mu-ziq/CatML.jl/wip/docs/gh-deploy/dist/images/maana-q-gats/monoid-is-unital.png)"
   ],
   "cell_type": "markdown",
   "metadata": {}
  },
  {
   "source": [
    "## Algebraic Theory Instances"
   ],
   "cell_type": "markdown",
   "metadata": {}
  },
  {
   "source": [
    "### Smart CRUD\n",
    "\n",
    "![](https://raw.githubusercontent.com/mu-ziq/CatML.jl/wip/docs/gh-deploy/dist/images/maana-q-gats/theory-smart-crud.png)"
   ],
   "cell_type": "markdown",
   "metadata": {}
  },
  {
   "source": [
    "### Graph*i*QL\n",
    "\n",
    "![](https://raw.githubusercontent.com/mu-ziq/CatML.jl/wip/docs/gh-deploy/dist/images/maana-q-gats/algebraic-instance-graphiql.png)"
   ],
   "cell_type": "markdown",
   "metadata": {}
  },
  {
   "source": [
    "### GraphQL"
   ],
   "cell_type": "markdown",
   "metadata": {}
  },
  {
   "source": [
    "```graphql\n",
    "mutation persist($theorys: [TheoryAsInput]) {\n",
    "  persistTheorys(theorys: $theorys)\n",
    "}\n",
    "\n",
    "fragment theoryFields on Theory {\n",
    "  id\n",
    "  signature {\n",
    "    ...signatureFields\n",
    "  }\n",
    "  equations {\n",
    "    ...equationFields\n",
    "  }\n",
    "}\n",
    "\n",
    "fragment signatureFields on Signature {\n",
    "  id\n",
    "  sorts {\n",
    "    id\n",
    "  }\n",
    "  operations {\n",
    "    id\n",
    "  }\n",
    "}\n",
    "\n",
    "fragment equationFields on Equation {\n",
    "  id\n",
    "}\n",
    "\n",
    "query get {\n",
    "  allTheorys {\n",
    "    ...theoryFields\n",
    "  }\n",
    "}\n",
    "```"
   ],
   "cell_type": "markdown",
   "metadata": {}
  },
  {
   "source": [
    "### JSON"
   ],
   "cell_type": "markdown",
   "metadata": {}
  },
  {
   "source": [
    "```json\n",
    "{\"theorys\":[{\n",
    "    \"id\": \"/maana-cat-monoid\", \n",
    "    \"signature\": {\n",
    "      \"id\": \"/maana-cat-monoid\", \n",
    "      \"sorts\": [\n",
    "        {\"id\": \"/maana-cat-monoid/kind/M\"}\n",
    "      ], \n",
    "      \"operations\": [\n",
    "        {\"id\": \"/maana-cat-monoid/fn/e\"},\n",
    "        {\"id\": \"/maana-cat-monoid/fn/m\"}\n",
    "      ]},\n",
    "    \"equations\": [\n",
    "      {\"id\": \"/maana-cat-monoid/fn/isAssociative\"},\n",
    "      {\"id\": \"/maana-cat-monoid/fn/isUnital\"},\n",
    "      {\"id\": \"/maana-cat-monoid/fn/isEqual\"}\n",
    "    ]\n",
    "},{\n",
    "    \"id\": \"/maana-cat-category\", \n",
    "    \"signature\": {\n",
    "      \"id\": \"/maana-cat-category\", \n",
    "      \"sorts\": [\n",
    "        {\"id\": \"/maana-cat-category/kind/Ob\"},\n",
    "        {\"id\": \"/maana-cat-category/kind/Hom\"}\n",
    "      ], \n",
    "      \"operations\": [\n",
    "        {\"id\": \"/maana-cat-category/fn/id\"},\n",
    "        {\"id\": \"/maana-cat-category/fn/compose\"},\n",
    "        {\"id\": \"/maana-cat-category/fn/apply\"}\n",
    "      ]},\n",
    "    \"equations\": [\n",
    "      {\"id\": \"/maana-cat-category/fn/isAssociative\"},\n",
    "      {\"id\": \"/maana-cat-category/fn/isUnital\"},\n",
    "      {\"id\": \"/maana-cat-category/fn/isEqual\"}\n",
    "    ]\n",
    "}]}\n",
    "```"
   ],
   "cell_type": "markdown",
   "metadata": {}
  },
  {
   "source": [
    "### Theory DataView\n",
    "\n",
    "![](https://raw.githubusercontent.com/mu-ziq/CatML.jl/wip/docs/gh-deploy/dist/images/maana-q-gats/theory-dataview.png)"
   ],
   "cell_type": "markdown",
   "metadata": {}
  },
  {
   "source": [
    "### Signature DataView\n",
    "\n",
    "![](https://raw.githubusercontent.com/mu-ziq/CatML.jl/wip/docs/gh-deploy/dist/images/maana-q-gats/signature-dataview.png)"
   ],
   "cell_type": "markdown",
   "metadata": {}
  },
  {
   "source": [
    "### Equation DataView\n",
    "\n",
    "![](https://raw.githubusercontent.com/mu-ziq/CatML.jl/wip/docs/gh-deploy/dist/images/maana-q-gats/equation-dataview.png)"
   ],
   "cell_type": "markdown",
   "metadata": {}
  },
  {
   "source": [
    "### Sort DataView\n",
    "\n",
    "![](https://raw.githubusercontent.com/mu-ziq/CatML.jl/wip/docs/gh-deploy/dist/images/maana-q-gats/sort-dataview.png)"
   ],
   "cell_type": "markdown",
   "metadata": {}
  },
  {
   "source": [
    "### Operation DataView\n",
    "\n",
    "![](https://raw.githubusercontent.com/mu-ziq/CatML.jl/wip/docs/gh-deploy/dist/images/maana-q-gats/operation-dataview.png)"
   ],
   "cell_type": "markdown",
   "metadata": {}
  },
  {
   "source": [
    "## Signatures Define Instances"
   ],
   "cell_type": "markdown",
   "metadata": {}
  },
  {
   "source": [
    "To operate within a theory means to construct (or generate) *instances*.  These theories provide *stub* functions that you must implement in a context-appropriate way.  These stub functions are provided as **workspace templates** that you *clone* to then provide your logic."
   ],
   "cell_type": "markdown",
   "metadata": {}
  },
  {
   "source": [
    "### Workspace Templates\n",
    "\n",
    "![](https://raw.githubusercontent.com/mu-ziq/CatML.jl/wip/docs/gh-deploy/dist/images/maana-q-gats/monoid-template.png)\n",
    "\n",
    "![](https://raw.githubusercontent.com/mu-ziq/CatML.jl/wip/docs/gh-deploy/dist/images/maana-q-gats/category-template.png)"
   ],
   "cell_type": "markdown",
   "metadata": {}
  },
  {
   "source": [
    "### Instance: Category of Matrices\n",
    "\n",
    "Instance of `Category` with *(element type, dimension)* pairs as objects and *matrices* as morphisms."
   ],
   "cell_type": "markdown",
   "metadata": {}
  },
  {
   "source": [
    "## Signatures Define Symbolic Expressions"
   ],
   "cell_type": "markdown",
   "metadata": {}
  }
 ],
 "metadata": {
  "@webio": {
   "lastCommId": null,
   "lastKernelId": null
  },
  "kernelspec": {
   "display_name": "Julia 1.5.2",
   "language": "julia",
   "name": "julia-1.5"
  },
  "language_info": {
   "file_extension": ".jl",
   "mimetype": "application/julia",
   "name": "julia",
   "version": "3.8.6-final"
  }
 },
 "nbformat": 4,
 "nbformat_minor": 1
}