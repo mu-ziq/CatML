{
 "cells": [
  {
   "source": [
    "# Maana Q: Knowledge and Reasoning Platform"
   ],
   "cell_type": "markdown",
   "metadata": {}
  },
  {
   "cell_type": "markdown",
   "metadata": {},
   "source": [
    "## Installation"
   ]
  },
  {
   "cell_type": "code",
   "execution_count": 4,
   "metadata": {},
   "outputs": [
    {
     "output_type": "stream",
     "name": "stderr",
     "text": [
      "\u001b[32m\u001b[1m  Resolving\u001b[22m\u001b[39m package versions...\n",
      "\u001b[32m\u001b[1m   Updating\u001b[22m\u001b[39m `/mnt/e/Source/muziq/CatML.jl/Project.toml`\n",
      "\u001b[90m [no changes]\u001b[39m\n",
      "\u001b[32m\u001b[1m   Updating\u001b[22m\u001b[39m `/mnt/e/Source/muziq/CatML.jl/Manifest.toml`\n",
      "\u001b[90m [no changes]\u001b[39m\n",
      "\u001b[32m\u001b[1m  Resolving\u001b[22m\u001b[39m package versions...\n",
      "\u001b[32m\u001b[1m   Updating\u001b[22m\u001b[39m `/mnt/e/Source/muziq/CatML.jl/Project.toml`\n",
      "\u001b[90m [no changes]\u001b[39m\n",
      "\u001b[32m\u001b[1m   Updating\u001b[22m\u001b[39m `/mnt/e/Source/muziq/CatML.jl/Manifest.toml`\n",
      "\u001b[90m [no changes]\u001b[39m\n"
     ]
    }
   ],
   "source": [
    "using Pkg\n",
    "Pkg.add(\"TikzGraphs\")\n",
    "Pkg.add(\"LightGraphs\")"
   ]
  },
  {
   "source": [
    "## Applied Category Theory using GATs"
   ],
   "cell_type": "markdown",
   "metadata": {}
  },
  {
   "source": [
    "### Two views on category theory and software [^Patterson1]\n",
    "\n",
    "1. Designing with categories: CT informing the design, architecture, and implementation of computer programs, in any domain.\n",
    "\n",
    "**Slogan**: *Design patterns, but better*\n",
    "\n",
    "2. Computing on categories: data structures and algorithms for computing with objects and morphisms in categories.\n",
    "\n",
    "**Slogan**: *Computer algebra of categories* or *computational category theory*\n",
    "\n",
    "**These are orthogonal [and can be layered].**\n",
    "\n",
    "!!! tip\n",
    "\tThis notebook is about how to use Q for computational category theory (mostly).\n",
    "\n",
    "[^Patterson1]: [Evan Patterson: Realizing Applied Category Theory in Julia](https://www.youtube.com/watch?v=7dmrDYQh4rc)"
   ],
   "cell_type": "markdown",
   "metadata": {}
  },
  {
   "source": [
    "### Representing morphisms in monoidal categories"
   ],
   "cell_type": "markdown",
   "metadata": {}
  },
  {
   "source": [
    "Transforming between different **computational representations** of morphisms in symmetric monoidal categories."
   ],
   "cell_type": "markdown",
   "metadata": {}
  },
  {
   "cell_type": "code",
   "execution_count": 5,
   "metadata": {},
   "outputs": [
    {
     "output_type": "stream",
     "name": "stderr",
     "text": [
      "┌ Info: Precompiling TikzGraphs [b4f28e30-c73f-5eaf-a395-8a9db949a742]\n└ @ Base loading.jl:1260\n"
     ]
    },
    {
     "output_type": "execute_result",
     "data": {
      "text/plain": [
       "TikzPictures.TikzPicture(\"\\\\graph [spring electrical layout, random seed = 42, electric charge=25, node distance=35,] {\\n1/\\\"Wiring diagrams\\\" [],\\n2/\\\"Symbolic expressions\\\" [],\\n3/\\\"Q Function Graphs\\\" [],\\n;\\n1 -> [,] 2;\\n2 -> [,] 1;\\n2 -> [,edge label={Compilation},] 3;\\n3 -> [,edge label={Parsing},] 1;\\n};\\n\", \"scale=2, font=\\\\huge\\\\sf\", \"\\\\usepackage{fontspec}\\n\\\\setmainfont{Latin Modern Math}\\n\\\\usetikzlibrary{arrows}\\n\\\\usetikzlibrary{graphs}\\n\\\\usetikzlibrary{graphdrawing}\\n\\n% from: https://tex.stackexchange.com/questions/453132/fresh-install-of-tl2018-no-tikz-graph-drawing-libraries-found\\n\\\\usepackage{luacode}\\n\\\\begin{luacode*}\\n\\tfunction pgf_lookup_and_require(name)\\n\\tlocal sep = package.config:sub(1,1)\\n\\tlocal function lookup(name)\\n\\tlocal sub = name:gsub('%.',sep)  \\n\\tif kpse.find_file(sub, 'lua') then\\n\\trequire(name)\\n\\telseif kpse.find_file(sub, 'clua') then\\n\\tcollectgarbage('stop') \\n\\trequire(name)\\n\\tcollectgarbage('restart')\\n\\telse\\n\\treturn false\\n\\tend\\n\\treturn true\\n\\tend\\n\\treturn\\n\\tlookup('pgf.gd.' .. name .. '.library') or\\n\\tlookup('pgf.gd.' .. name) or\\n\\tlookup(name .. '.library') or\\n\\tlookup(name) \\n\\tend\\n\\\\end{luacode*}\\n\\n\\\\usegdlibrary{force}\", \"tikzpicture\", \"\", \"\", true, true)"
      ],
      "image/svg+xml": "<?xml version=\"1.0\" encoding=\"UTF-8\"?>\n<svg xmlns=\"http://www.w3.org/2000/svg\" xmlns:xlink=\"http://www.w3.org/1999/xlink\" width=\"378.749pt\" height=\"268.535pt\" viewBox=\"0 0 378.749 268.535\" version=\"1.2\">\n<defs>\n<g>\n<symbol overflow=\"visible\" id=\"glyph-1602619927360319-0-0\">\n<path style=\"stroke:none;\" d=\"\"/>\n</symbol>\n<symbol overflow=\"visible\" id=\"glyph-1602619927360319-0-1\">\n<path style=\"stroke:none;\" d=\"M 11.28125 -0.96875 L 11.15625 -2.375 C 10.59375 -1.984375 10.0625 -1.59375 9.40625 -1.375 C 8.765625 -1.171875 8.109375 -1.15625 7.453125 -1.15625 C 6.1875 -1.15625 5.046875 -1.875 4.3125 -2.890625 C 3.375 -4.109375 2.96875 -5.59375 2.96875 -7.078125 C 2.96875 -8.578125 3.375 -10.078125 4.3125 -11.28125 C 5.046875 -12.265625 6.1875 -13.015625 7.453125 -13.015625 C 8.046875 -13.015625 8.625 -12.953125 9.171875 -12.765625 C 9.75 -12.609375 10.265625 -12.296875 10.78125 -11.984375 L 11.078125 -13.640625 C 10.5 -13.859375 9.90625 -14.046875 9.28125 -14.171875 C 8.6875 -14.296875 8.0625 -14.328125 7.453125 -14.328125 C 5.75 -14.328125 4.1875 -13.515625 3.078125 -12.203125 C 1.859375 -10.78125 1.265625 -8.953125 1.265625 -7.078125 C 1.265625 -5.21875 1.859375 -3.375 3.078125 -1.953125 C 4.1875 -0.65625 5.75 0.171875 7.453125 0.171875 C 8.125 0.171875 8.8125 0.140625 9.46875 -0.046875 C 10.125 -0.25 10.703125 -0.59375 11.28125 -0.96875 Z M 11.28125 -0.96875 \"/>\n</symbol>\n<symbol overflow=\"visible\" id=\"glyph-1602619927360319-0-2\">\n<path style=\"stroke:none;\" d=\"M 9.109375 -4.40625 C 9.109375 -7.046875 7.15625 -9.109375 4.84375 -9.109375 C 2.46875 -9.109375 0.5625 -6.984375 0.5625 -4.40625 C 0.5625 -1.796875 2.53125 0.171875 4.828125 0.171875 C 7.171875 0.171875 9.109375 -1.859375 9.109375 -4.40625 Z M 7.546875 -4.578125 C 7.546875 -2.25 6.203125 -1.109375 4.828125 -1.109375 C 3.375 -1.109375 2.125 -2.328125 2.125 -4.578125 C 2.125 -6.96875 3.59375 -7.84375 4.828125 -7.84375 C 6.171875 -7.84375 7.546875 -6.890625 7.546875 -4.578125 Z M 7.546875 -4.578125 \"/>\n</symbol>\n<symbol overflow=\"visible\" id=\"glyph-1602619927360319-0-3\">\n<path style=\"stroke:none;\" d=\"M 13.8125 0 L 13.8125 -6.015625 C 13.8125 -7.40625 13.46875 -9.03125 11.15625 -9.03125 C 9.609375 -9.03125 8.6875 -8.0625 8.265625 -7.46875 C 7.90625 -8.5625 7.03125 -9.03125 5.796875 -9.03125 C 4.390625 -9.03125 3.5 -8.234375 3.03125 -7.65625 L 3.03125 -8.9375 L 1.53125 -8.9375 L 1.53125 0 L 3.09375 0 L 3.09375 -4.984375 C 3.09375 -6.203125 3.546875 -7.78125 5.015625 -7.78125 C 6.890625 -7.78125 6.890625 -6.453125 6.890625 -5.859375 L 6.890625 0 L 8.453125 0 L 8.453125 -4.984375 C 8.453125 -6.203125 8.90625 -7.78125 10.375 -7.78125 C 12.25 -7.78125 12.25 -6.453125 12.25 -5.859375 L 12.25 0 Z M 13.8125 0 \"/>\n</symbol>\n<symbol overflow=\"visible\" id=\"glyph-1602619927360319-0-4\">\n<path style=\"stroke:none;\" d=\"M 9.28125 -4.453125 C 9.28125 -6.890625 8.046875 -9.03125 6.265625 -9.03125 C 5.234375 -9.03125 4 -8.65625 3.078125 -7.921875 L 3.078125 -8.875 L 1.546875 -8.875 L 1.546875 4.015625 L 3.109375 4.015625 L 3.109375 -0.921875 C 3.796875 -0.265625 4.71875 0.171875 5.71875 0.171875 C 7.625 0.171875 9.28125 -1.8125 9.28125 -4.453125 Z M 7.71875 -4.453125 C 7.71875 -2.40625 6.3125 -1.09375 4.921875 -1.09375 C 4.515625 -1.09375 4.078125 -1.203125 3.671875 -1.546875 C 3.109375 -2.046875 3.109375 -2.34375 3.109375 -2.640625 L 3.109375 -6.703125 C 3.28125 -6.953125 3.984375 -7.734375 5.109375 -7.734375 C 6.5625 -7.734375 7.71875 -6.25 7.71875 -4.453125 Z M 7.71875 -4.453125 \"/>\n</symbol>\n<symbol overflow=\"visible\" id=\"glyph-1602619927360319-0-5\">\n<path style=\"stroke:none;\" d=\"M 3.046875 0 L 3.046875 -8.875 L 1.53125 -8.875 L 1.53125 0 Z M 3.171875 -11.625 L 3.171875 -13.359375 L 1.4375 -13.359375 L 1.4375 -11.625 Z M 3.171875 -11.625 \"/>\n</symbol>\n<symbol overflow=\"visible\" id=\"glyph-1602619927360319-0-6\">\n<path style=\"stroke:none;\" d=\"M 3.046875 0 L 3.046875 -14.3125 L 1.53125 -14.3125 L 1.53125 0 Z M 3.046875 0 \"/>\n</symbol>\n<symbol overflow=\"visible\" id=\"glyph-1602619927360319-0-7\">\n<path style=\"stroke:none;\" d=\"M 7.96875 0 L 7.96875 -5.84375 C 7.96875 -7.78125 6.578125 -9.109375 4.71875 -9.109375 C 3.8125 -9.109375 2.828125 -8.953125 1.6875 -8.296875 L 1.8125 -6.9375 C 2.328125 -7.296875 3.21875 -7.90625 4.703125 -7.90625 C 5.75 -7.90625 6.390625 -7.09375 6.390625 -5.8125 L 6.390625 -5.03125 C 3.09375 -4.921875 1.03125 -3.984375 1.03125 -2.34375 C 1.03125 -1.5 1.546875 0.171875 3.265625 0.171875 C 3.5625 0.171875 5.234375 0.125 6.4375 -0.765625 L 6.4375 0 Z M 6.390625 -2.71875 C 6.390625 -2.34375 6.390625 -1.859375 5.78125 -1.484375 C 5.234375 -1.140625 4.5625 -1.09375 4.265625 -1.09375 C 3.234375 -1.09375 2.53125 -1.671875 2.53125 -2.390625 C 2.53125 -3.84375 5.75 -3.984375 6.390625 -4 Z M 6.390625 -2.71875 \"/>\n</symbol>\n<symbol overflow=\"visible\" id=\"glyph-1602619927360319-0-8\">\n<path style=\"stroke:none;\" d=\"M 6.453125 -0.59375 L 6.125 -1.8125 C 5.625 -1.375 5.03125 -1.140625 4.390625 -1.140625 C 3.484375 -1.140625 3.4375 -2.296875 3.4375 -2.8125 L 3.4375 -7.671875 L 6.125 -7.671875 L 6.125 -8.875 L 3.4375 -8.875 L 3.4375 -11.40625 L 1.984375 -11.40625 L 1.984375 -8.875 L 0.34375 -8.875 L 0.34375 -7.671875 L 1.9375 -7.671875 L 1.9375 -2.453125 C 1.9375 -1.28125 2.203125 0.171875 3.5625 0.171875 C 4.59375 0.171875 5.546875 -0.125 6.453125 -0.59375 Z M 6.453125 -0.59375 \"/>\n</symbol>\n<symbol overflow=\"visible\" id=\"glyph-1602619927360319-0-9\">\n<path style=\"stroke:none;\" d=\"M 8.4375 0 L 8.4375 -6.015625 C 8.4375 -7.328125 8.125 -9.03125 5.796875 -9.03125 C 4.46875 -9.03125 3.609375 -8.359375 3.03125 -7.65625 L 3.03125 -8.9375 L 1.53125 -8.9375 L 1.53125 0 L 3.09375 0 L 3.09375 -4.984375 C 3.09375 -6.296875 3.59375 -7.78125 4.984375 -7.78125 C 6.8125 -7.78125 6.875 -6.5625 6.875 -5.859375 L 6.875 0 Z M 8.4375 0 \"/>\n</symbol>\n<symbol overflow=\"visible\" id=\"glyph-1602619927360319-0-10\">\n<path style=\"stroke:none;\" d=\"M 11.28125 -10.140625 C 11.28125 -12.375 9.34375 -14.3125 6.65625 -14.3125 L 1.828125 -14.3125 L 1.828125 0 L 3.5625 0 L 3.5625 -5.953125 L 6.78125 -5.953125 C 9.265625 -5.953125 11.28125 -7.875 11.28125 -10.140625 Z M 9.65625 -10.140625 C 9.65625 -8.75 8.6875 -7.15625 6.203125 -7.15625 L 3.53125 -7.15625 L 3.53125 -13.15625 L 6.203125 -13.15625 C 8.59375 -13.15625 9.65625 -11.65625 9.65625 -10.140625 Z M 9.65625 -10.140625 \"/>\n</symbol>\n<symbol overflow=\"visible\" id=\"glyph-1602619927360319-0-11\">\n<path style=\"stroke:none;\" d=\"M 6.3125 -7.671875 L 6.3125 -9.03125 C 4.984375 -9.015625 3.75 -8.359375 3.015625 -7.28125 L 3.015625 -8.9375 L 1.546875 -8.9375 L 1.546875 0 L 3.078125 0 L 3.078125 -4.390625 C 3.078125 -6.328125 4.5 -7.625 6.3125 -7.671875 Z M 6.3125 -7.671875 \"/>\n</symbol>\n<symbol overflow=\"visible\" id=\"glyph-1602619927360319-0-12\">\n<path style=\"stroke:none;\" d=\"M 6.96875 -2.5625 C 6.96875 -3.5625 6.390625 -4.25 6 -4.5625 C 5.328125 -5.09375 5.078125 -5.15625 3.375 -5.5 C 3.09375 -5.546875 2.078125 -5.78125 2.078125 -6.703125 C 2.078125 -7.875 3.375 -7.875 3.671875 -7.875 C 5.015625 -7.875 5.84375 -7.46875 6.390625 -7.15625 L 6.640625 -8.5 C 5.421875 -9.078125 4.46875 -9.109375 3.859375 -9.109375 C 2.390625 -9.109375 0.640625 -8.59375 0.640625 -6.515625 C 0.640625 -4.4375 2.90625 -3.984375 3.53125 -3.859375 C 4.46875 -3.671875 5.53125 -3.46875 5.53125 -2.4375 C 5.53125 -1.140625 4.046875 -1.140625 3.78125 -1.140625 C 2.953125 -1.140625 1.8125 -1.359375 0.78125 -2.109375 L 0.53125 -0.71875 C 1.71875 -0.046875 2.84375 0.171875 3.796875 0.171875 C 6.328125 0.171875 6.96875 -1.375 6.96875 -2.5625 Z M 6.96875 -2.5625 \"/>\n</symbol>\n<symbol overflow=\"visible\" id=\"glyph-1602619927360319-0-13\">\n<path style=\"stroke:none;\" d=\"M 9.40625 -7.75 L 9.171875 -9.03125 C 8 -9.015625 6.984375 -8.78125 6.171875 -8.390625 C 5.484375 -8.9375 4.78125 -9.03125 4.3125 -9.03125 C 2.515625 -9.03125 1.15625 -7.546875 1.15625 -5.8125 C 1.15625 -4.703125 1.78125 -3.859375 1.8125 -3.8125 C 1.4375 -3.296875 1.234375 -2.75 1.234375 -2.125 C 1.234375 -1.40625 1.53125 -0.890625 1.75 -0.59375 C 0.6875 0.0625 0.53125 1.078125 0.53125 1.46875 C 0.53125 2.96875 2.40625 4.203125 4.828125 4.203125 C 7.265625 4.203125 9.140625 2.96875 9.140625 1.4375 C 9.140625 -1.40625 5.984375 -1.421875 5.109375 -1.421875 L 3.4375 -1.421875 C 3.140625 -1.421875 2.3125 -1.421875 2.3125 -2.46875 C 2.3125 -2.890625 2.515625 -3.171875 2.515625 -3.171875 C 2.828125 -2.953125 3.46875 -2.59375 4.3125 -2.59375 C 6.015625 -2.59375 7.453125 -4.046875 7.453125 -5.8125 C 7.453125 -6.8125 6.984375 -7.53125 6.8125 -7.78125 L 6.875 -7.78125 C 6.9375 -7.78125 7.796875 -7.84375 8.109375 -7.84375 C 8.765625 -7.84375 8.828125 -7.8125 9.40625 -7.75 Z M 5.984375 -5.8125 C 5.984375 -4.015625 4.84375 -3.734375 4.3125 -3.734375 C 3.609375 -3.734375 2.625 -4.171875 2.625 -5.8125 C 2.625 -7.609375 3.75 -7.90625 4.296875 -7.90625 C 4.984375 -7.90625 5.984375 -7.46875 5.984375 -5.8125 Z M 7.671875 1.484375 C 7.671875 2.375 6.390625 3.078125 4.84375 3.078125 C 3.28125 3.078125 2 2.390625 2 1.46875 C 2 1.359375 2 0.078125 3.421875 0.078125 L 5.09375 0.078125 C 5.59375 0.078125 7.671875 0.078125 7.671875 1.484375 Z M 7.671875 1.484375 \"/>\n</symbol>\n<symbol overflow=\"visible\" id=\"glyph-1602619927360319-0-14\">\n<path style=\"stroke:none;\" d=\"M 17.984375 -14.3125 L 16.421875 -14.3125 L 14.6875 -7.90625 L 13.921875 -4.8125 C 13.546875 -3.28125 13.28125 -2.203125 13.234375 -1.671875 L 13.21875 -1.671875 C 13.171875 -2.234375 12.90625 -3.40625 12.578125 -4.71875 L 11.78125 -7.984375 L 10.0625 -14.3125 L 8.328125 -14.3125 L 6.703125 -8.3125 L 5.875 -5.03125 C 5.265625 -2.4375 5.234375 -2.0625 5.203125 -1.65625 L 5.171875 -1.65625 C 5.171875 -1.78125 5.09375 -2.453125 4.515625 -4.875 L 3.625 -8.4375 L 2.046875 -14.3125 L 0.265625 -14.3125 L 4.1875 0 L 5.90625 0 L 7.53125 -5.953125 L 8.359375 -9.234375 C 8.90625 -11.546875 9.03125 -12.125 9.078125 -12.640625 L 9.09375 -12.640625 C 9.09375 -12.5625 9.28125 -11.265625 10.078125 -8.25 L 12.265625 0 L 14.0625 0 Z M 17.984375 -14.3125 \"/>\n</symbol>\n<symbol overflow=\"visible\" id=\"glyph-1602619927360319-0-15\">\n<path style=\"stroke:none;\" d=\"M 8.421875 0 L 8.421875 -14.3125 L 6.890625 -14.3125 L 6.890625 -8 C 6.25 -8.53125 5.203125 -9.03125 4.046875 -9.03125 C 2.171875 -9.03125 0.6875 -6.984375 0.6875 -4.4375 C 0.6875 -1.875 2.140625 0.171875 3.984375 0.171875 C 5.40625 0.171875 6.359375 -0.59375 6.84375 -1.03125 L 6.84375 0 Z M 6.84375 -2.765625 C 6.84375 -2.46875 6.84375 -2.171875 6.203125 -1.609375 C 5.796875 -1.265625 5.296875 -1.09375 4.828125 -1.09375 C 3.71875 -1.09375 2.25 -1.921875 2.25 -4.40625 C 2.25 -7.015625 3.890625 -7.78125 5.03125 -7.78125 C 5.796875 -7.78125 6.421875 -7.40625 6.84375 -6.78125 Z M 6.84375 -2.765625 \"/>\n</symbol>\n<symbol overflow=\"visible\" id=\"glyph-1602619927360319-0-16\">\n<path style=\"stroke:none;\" d=\"M 9.671875 -3.9375 C 9.671875 -4.765625 9.421875 -5.8125 8.5625 -6.78125 C 7.71875 -7.71875 6.96875 -7.921875 5.28125 -8.375 C 4.3125 -8.625 3.6875 -8.78125 3.171875 -9.421875 C 2.828125 -9.875 2.640625 -10.3125 2.640625 -10.875 C 2.640625 -12.03125 3.625 -13.28125 5.4375 -13.28125 C 6.359375 -13.28125 7.53125 -13.09375 8.71875 -11.984375 L 9.015625 -13.640625 C 8.109375 -14.171875 7.109375 -14.640625 5.4375 -14.640625 C 2.78125 -14.640625 1.078125 -12.6875 1.078125 -10.6875 C 1.078125 -9.90625 1.296875 -9.015625 2.109375 -8.109375 C 2.90625 -7.203125 3.8125 -6.953125 4.96875 -6.65625 C 5.4375 -6.53125 6.25 -6.3125 6.390625 -6.25 C 7.546875 -5.796875 8.109375 -4.75 8.109375 -3.75 C 8.109375 -2.453125 7.09375 -1.078125 5.296875 -1.078125 C 4.6875 -1.078125 2.859375 -1.171875 1.15625 -2.75 L 0.859375 -1.109375 C 2.5625 0.125 4.390625 0.328125 5.328125 0.328125 C 7.859375 0.328125 9.671875 -1.671875 9.671875 -3.9375 Z M 9.671875 -3.9375 \"/>\n</symbol>\n<symbol overflow=\"visible\" id=\"glyph-1602619927360319-0-17\">\n<path style=\"stroke:none;\" d=\"M 8.625 -8.875 L 7.015625 -8.875 C 5.265625 -4.140625 4.65625 -2.234375 4.625 -1.203125 L 4.59375 -1.203125 C 4.53125 -2.203125 3.625 -4.6875 2.90625 -6.453125 L 1.9375 -8.875 L 0.265625 -8.875 L 3.921875 0 C 3.6875 0.625 3.359375 1.546875 3.265625 1.75 C 2.8125 2.90625 2.5 2.90625 2.171875 2.90625 C 2.078125 2.90625 1.421875 2.890625 0.6875 2.65625 L 0.796875 4.015625 C 1.3125 4.125 1.828125 4.1875 2.203125 4.1875 C 2.71875 4.1875 3.75 4.1875 4.703125 1.65625 Z M 8.625 -8.875 \"/>\n</symbol>\n<symbol overflow=\"visible\" id=\"glyph-1602619927360319-0-18\">\n<path style=\"stroke:none;\" d=\"M 9.28125 -4.453125 C 9.28125 -6.84375 8.046875 -9.03125 6.203125 -9.03125 C 4.90625 -9.03125 3.75 -8.5 3.078125 -7.9375 L 3.078125 -14.3125 L 1.546875 -14.3125 L 1.546875 0 L 3.109375 0 L 3.109375 -0.921875 C 3.890625 -0.171875 4.84375 0.171875 5.6875 0.171875 C 7.671875 0.171875 9.28125 -1.828125 9.28125 -4.453125 Z M 7.71875 -4.453125 C 7.71875 -1.859375 6.0625 -1.09375 4.921875 -1.09375 C 4.515625 -1.09375 4.078125 -1.203125 3.671875 -1.546875 C 3.109375 -2.046875 3.109375 -2.34375 3.109375 -2.640625 L 3.109375 -6.71875 C 3.5625 -7.296875 4.203125 -7.78125 5.109375 -7.78125 C 6.328125 -7.78125 7.71875 -6.890625 7.71875 -4.453125 Z M 7.71875 -4.453125 \"/>\n</symbol>\n<symbol overflow=\"visible\" id=\"glyph-1602619927360319-0-19\">\n<path style=\"stroke:none;\" d=\"M 8.0625 -0.828125 L 7.9375 -2.1875 C 7.046875 -1.5 6.015625 -1.140625 4.90625 -1.140625 C 3.296875 -1.140625 2.25 -2.53125 2.25 -4.453125 C 2.25 -5.9375 2.921875 -7.8125 4.984375 -7.8125 C 6.125 -7.8125 6.765625 -7.59375 7.71875 -6.953125 L 7.9375 -8.234375 C 7.9375 -8.375 6.984375 -8.78125 6.75 -8.875 C 6.0625 -9.109375 5.203125 -9.109375 4.96875 -9.109375 C 2.296875 -9.109375 0.6875 -6.78125 0.6875 -4.4375 C 0.6875 -1.953125 2.46875 0.171875 4.890625 0.171875 C 6.265625 0.171875 7.265625 -0.28125 8.0625 -0.828125 Z M 8.0625 -0.828125 \"/>\n</symbol>\n<symbol overflow=\"visible\" id=\"glyph-1602619927360319-0-20\">\n<path style=\"stroke:none;\" d=\"M 8.0625 -4.515625 C 8.0625 -5.203125 8.015625 -6.515625 7.359375 -7.609375 C 6.640625 -8.78125 5.46875 -9.109375 4.578125 -9.109375 C 2.4375 -9.109375 0.625 -7.09375 0.625 -4.46875 C 0.625 -1.921875 2.5 0.171875 4.875 0.171875 C 5.796875 0.171875 6.9375 -0.109375 7.96875 -0.84375 C 7.96875 -0.921875 7.90625 -1.40625 7.90625 -1.40625 C 7.90625 -1.40625 7.84375 -2.078125 7.84375 -2.171875 C 6.84375 -1.359375 5.71875 -1.09375 4.890625 -1.09375 C 3.5625 -1.09375 2.140625 -2.203125 2.078125 -4.515625 Z M 6.703125 -5.65625 L 2.25 -5.65625 C 2.515625 -6.78125 3.421875 -7.859375 4.578125 -7.859375 C 4.890625 -7.859375 6.328125 -7.8125 6.703125 -5.65625 Z M 6.703125 -5.65625 \"/>\n</symbol>\n<symbol overflow=\"visible\" id=\"glyph-1602619927360319-0-21\">\n<path style=\"stroke:none;\" d=\"M 8.890625 0 L 5.109375 -4.578125 L 8.5625 -8.875 L 6.765625 -8.875 L 4.390625 -5.75 L 1.9375 -8.875 L 0.109375 -8.875 L 3.671875 -4.578125 L 0 0 L 1.8125 0 L 4.390625 -3.625 L 7.078125 0 Z M 8.890625 0 \"/>\n</symbol>\n<symbol overflow=\"visible\" id=\"glyph-1602619927360319-0-22\">\n<path style=\"stroke:none;\" d=\"M 13.203125 -7.140625 C 13.203125 -11.421875 10.375 -14.640625 7.140625 -14.640625 C 3.890625 -14.640625 1.078125 -11.40625 1.078125 -7.140625 C 1.078125 -2.828125 3.9375 0.328125 7.140625 0.328125 C 7.859375 0.328125 8.484375 0.171875 8.90625 0 L 10.640625 2.578125 L 12.65625 2.578125 L 10.3125 -0.765625 C 12.828125 -2.8125 13.203125 -5.5625 13.203125 -7.140625 Z M 11.515625 -7.140625 C 11.515625 -5.8125 11.296875 -3.609375 9.515625 -1.921875 L 8.015625 -4 L 6.25 -4 L 8.140625 -1.140625 C 7.859375 -1.03125 7.5 -0.96875 7.140625 -0.96875 C 4.90625 -0.96875 2.765625 -3.296875 2.765625 -7.140625 C 2.765625 -10.953125 4.890625 -13.34375 7.140625 -13.34375 C 9.40625 -13.34375 11.515625 -10.9375 11.515625 -7.140625 Z M 11.515625 -7.140625 \"/>\n</symbol>\n<symbol overflow=\"visible\" id=\"glyph-1602619927360319-0-23\">\n<path style=\"stroke:none;\" d=\"M 10.203125 -12.9375 L 10.203125 -14.265625 L 1.8125 -14.265625 L 1.8125 0 L 3.546875 0 L 3.546875 -6.515625 L 9.40625 -6.515625 L 9.40625 -7.78125 L 3.546875 -7.78125 L 3.546875 -12.953125 L 6.0625 -12.953125 C 6.3125 -12.953125 6.5625 -12.9375 6.8125 -12.9375 Z M 10.203125 -12.9375 \"/>\n</symbol>\n<symbol overflow=\"visible\" id=\"glyph-1602619927360319-0-24\">\n<path style=\"stroke:none;\" d=\"M 8.4375 0 L 8.4375 -8.875 L 6.875 -8.875 L 6.875 -3.171875 C 6.875 -1.65625 5.75 -1.03125 4.578125 -1.03125 C 3.21875 -1.03125 3.09375 -1.484375 3.09375 -2.328125 L 3.09375 -8.875 L 1.53125 -8.875 L 1.53125 -2.234375 C 1.53125 -0.625 2.078125 0.171875 3.5 0.171875 C 4.203125 0.171875 5.796875 0 6.90625 -1.03125 L 6.90625 0 Z M 8.4375 0 \"/>\n</symbol>\n<symbol overflow=\"visible\" id=\"glyph-1602619927360319-0-25\">\n<path style=\"stroke:none;\" d=\"M 11.515625 -0.84375 L 11.515625 -6 L 7.453125 -6 L 7.453125 -4.71875 L 9.9375 -4.71875 L 9.9375 -1.546875 C 9.140625 -1.28125 8.296875 -1.15625 7.453125 -1.15625 C 6.1875 -1.15625 5.046875 -1.875 4.3125 -2.890625 C 3.375 -4.109375 2.984375 -5.59375 2.984375 -7.078125 C 2.984375 -8.578125 3.375 -10.078125 4.3125 -11.28125 C 5.046875 -12.265625 6.1875 -13.015625 7.453125 -13.015625 C 8.109375 -13.015625 8.75 -12.9375 9.359375 -12.703125 C 9.984375 -12.484375 10.546875 -12.109375 11.0625 -11.6875 L 11.34375 -13.34375 C 10.75 -13.671875 10.125 -13.9375 9.46875 -14.109375 C 8.78125 -14.265625 8.125 -14.328125 7.453125 -14.328125 C 5.75 -14.328125 4.1875 -13.515625 3.078125 -12.203125 C 1.859375 -10.78125 1.265625 -8.953125 1.265625 -7.078125 C 1.265625 -5.21875 1.859375 -3.375 3.078125 -1.953125 C 4.1875 -0.65625 5.75 0.171875 7.453125 0.171875 C 8.84375 0.171875 10.234375 -0.171875 11.515625 -0.84375 Z M 11.515625 -0.84375 \"/>\n</symbol>\n<symbol overflow=\"visible\" id=\"glyph-1602619927360319-0-26\">\n<path style=\"stroke:none;\" d=\"M 8.4375 0 L 8.4375 -6.015625 C 8.4375 -7.328125 8.125 -9.03125 5.796875 -9.03125 C 4.5 -9.03125 3.65625 -8.390625 3.046875 -7.6875 L 3.046875 -14.3125 L 1.53125 -14.3125 L 1.53125 0 L 3.09375 0 L 3.09375 -4.984375 C 3.09375 -6.296875 3.59375 -7.78125 4.984375 -7.78125 C 6.8125 -7.78125 6.875 -6.5625 6.875 -5.859375 L 6.875 0 Z M 8.4375 0 \"/>\n</symbol>\n</g>\n</defs>\n<g id=\"surface1\">\n<path style=\"fill:none;stroke-width:0.3985;stroke-linecap:butt;stroke-linejoin:miter;stroke:rgb(0%,0%,0%);stroke-opacity:1;stroke-miterlimit:10;\" d=\"M -0.00178308 -25.593018 L -0.00178308 -216.822019 \" transform=\"matrix(0.998271,0,0,-0.998271,290.833811,12.576223)\"/>\n<path style=\"fill:none;stroke-width:0.31879;stroke-linecap:round;stroke-linejoin:round;stroke:rgb(0%,0%,0%);stroke-opacity:1;stroke-miterlimit:10;\" d=\"M -1.195381 1.594727 C -1.097555 0.996036 -0.00191143 0.0999553 0.299391 -0.00178308 C -0.00191143 -0.0996084 -1.097555 -0.995689 -1.195381 -1.59438 \" transform=\"matrix(0,0.998271,0.998271,0,290.833811,229.025346)\"/>\n<path style=\"fill:none;stroke-width:0.3985;stroke-linecap:butt;stroke-linejoin:miter;stroke:rgb(0%,0%,0%);stroke-opacity:1;stroke-miterlimit:10;\" d=\"M -0.00178308 -217.283754 L -0.00178308 -26.054754 \" transform=\"matrix(0.998271,0,0,-0.998271,290.833811,12.576223)\"/>\n<path style=\"fill:none;stroke-width:0.31879;stroke-linecap:round;stroke-linejoin:round;stroke:rgb(0%,0%,0%);stroke-opacity:1;stroke-miterlimit:10;\" d=\"M -1.195133 1.59438 C -1.097308 0.995689 -0.0016636 0.0996084 0.299638 0.00178308 C -0.0016636 -0.0999553 -1.097308 -0.996036 -1.195133 -1.594727 \" transform=\"matrix(0,-0.998271,-0.998271,0,290.833811,38.584277)\"/>\n<path style=\"fill:none;stroke-width:0.3985;stroke-linecap:butt;stroke-linejoin:miter;stroke:rgb(0%,0%,0%);stroke-opacity:1;stroke-miterlimit:10;\" d=\"M -44.915359 -217.283754 L -165.749236 -147.592973 \" transform=\"matrix(0.998271,0,0,-0.998271,290.833811,12.576223)\"/>\n<path style=\"fill:none;stroke-width:0.31879;stroke-linecap:round;stroke-linejoin:round;stroke:rgb(0%,0%,0%);stroke-opacity:1;stroke-miterlimit:10;\" d=\"M -1.196373 1.592802 C -1.095947 0.995721 -0.00127829 0.100227 0.301021 -0.000978739 C -0.00000275111 -0.0977964 -1.094796 -0.995718 -1.195783 -1.596029 \" transform=\"matrix(-0.864743,-0.498726,-0.498726,0.864743,125.369193,159.912692)\"/>\n<g style=\"fill:rgb(0%,0%,0%);fill-opacity:1;\">\n  <use xlink:href=\"#glyph-1602619927360319-0-1\" x=\"84.737691\" y=\"212.43115\"/>\n  <use xlink:href=\"#glyph-1602619927360319-0-2\" x=\"97.134399\" y=\"212.43115\"/>\n  <use xlink:href=\"#glyph-1602619927360319-0-3\" x=\"106.828996\" y=\"212.43115\"/>\n  <use xlink:href=\"#glyph-1602619927360319-0-4\" x=\"122.195964\" y=\"212.43115\"/>\n  <use xlink:href=\"#glyph-1602619927360319-0-5\" x=\"132.179336\" y=\"212.43115\"/>\n  <use xlink:href=\"#glyph-1602619927360319-0-6\" x=\"136.779113\" y=\"212.43115\"/>\n  <use xlink:href=\"#glyph-1602619927360319-0-7\" x=\"141.37889\" y=\"212.43115\"/>\n  <use xlink:href=\"#glyph-1602619927360319-0-8\" x=\"150.681578\" y=\"212.43115\"/>\n  <use xlink:href=\"#glyph-1602619927360319-0-5\" x=\"157.694691\" y=\"212.43115\"/>\n  <use xlink:href=\"#glyph-1602619927360319-0-2\" x=\"162.294467\" y=\"212.43115\"/>\n  <use xlink:href=\"#glyph-1602619927360319-0-9\" x=\"171.989065\" y=\"212.43115\"/>\n</g>\n<path style=\"fill:none;stroke-width:0.3985;stroke-linecap:butt;stroke-linejoin:miter;stroke:rgb(0%,0%,0%);stroke-opacity:1;stroke-miterlimit:10;\" d=\"M -166.171841 -95.882491 L -44.754926 -25.823886 \" transform=\"matrix(0.998271,0,0,-0.998271,290.833811,12.576223)\"/>\n<path style=\"fill:none;stroke-width:0.31879;stroke-linecap:round;stroke-linejoin:round;stroke:rgb(0%,0%,0%);stroke-opacity:1;stroke-miterlimit:10;\" d=\"M -1.196203 1.593755 C -1.093388 0.996803 0.00122597 0.0986328 0.296888 0.00031519 C -0.0000923322 -0.0993926 -1.09497 -0.994663 -1.197482 -1.59512 \" transform=\"matrix(0.864623,-0.498906,-0.498906,-0.864623,246.157524,38.355423)\"/>\n<g style=\"fill:rgb(0%,0%,0%);fill-opacity:1;\">\n  <use xlink:href=\"#glyph-1602619927360319-0-10\" x=\"123.329864\" y=\"65.488599\"/>\n</g>\n<g style=\"fill:rgb(0%,0%,0%);fill-opacity:1;\">\n  <use xlink:href=\"#glyph-1602619927360319-0-7\" x=\"135.169649\" y=\"65.488599\"/>\n</g>\n<g style=\"fill:rgb(0%,0%,0%);fill-opacity:1;\">\n  <use xlink:href=\"#glyph-1602619927360319-0-11\" x=\"143.93604\" y=\"65.488599\"/>\n  <use xlink:href=\"#glyph-1602619927360319-0-12\" x=\"150.536616\" y=\"65.488599\"/>\n  <use xlink:href=\"#glyph-1602619927360319-0-5\" x=\"157.962265\" y=\"65.488599\"/>\n  <use xlink:href=\"#glyph-1602619927360319-0-9\" x=\"162.562042\" y=\"65.488599\"/>\n  <use xlink:href=\"#glyph-1602619927360319-0-13\" x=\"172.545414\" y=\"65.488599\"/>\n</g>\n<g style=\"fill:rgb(0%,0%,0%);fill-opacity:1;\">\n  <use xlink:href=\"#glyph-1602619927360319-0-14\" x=\"224.591518\" y=\"17.630471\"/>\n  <use xlink:href=\"#glyph-1602619927360319-0-5\" x=\"242.866864\" y=\"17.630471\"/>\n  <use xlink:href=\"#glyph-1602619927360319-0-11\" x=\"247.466641\" y=\"17.630471\"/>\n  <use xlink:href=\"#glyph-1602619927360319-0-5\" x=\"254.067218\" y=\"17.630471\"/>\n  <use xlink:href=\"#glyph-1602619927360319-0-9\" x=\"258.666995\" y=\"17.630471\"/>\n  <use xlink:href=\"#glyph-1602619927360319-0-13\" x=\"268.650367\" y=\"17.630471\"/>\n</g>\n<g style=\"fill:rgb(0%,0%,0%);fill-opacity:1;\">\n  <use xlink:href=\"#glyph-1602619927360319-0-15\" x=\"284.801153\" y=\"17.630471\"/>\n  <use xlink:href=\"#glyph-1602619927360319-0-5\" x=\"294.784526\" y=\"17.630471\"/>\n  <use xlink:href=\"#glyph-1602619927360319-0-7\" x=\"299.384303\" y=\"17.630471\"/>\n  <use xlink:href=\"#glyph-1602619927360319-0-13\" x=\"308.68699\" y=\"17.630471\"/>\n  <use xlink:href=\"#glyph-1602619927360319-0-11\" x=\"318.381587\" y=\"17.630471\"/>\n  <use xlink:href=\"#glyph-1602619927360319-0-7\" x=\"324.982164\" y=\"17.630471\"/>\n  <use xlink:href=\"#glyph-1602619927360319-0-3\" x=\"334.284852\" y=\"17.630471\"/>\n  <use xlink:href=\"#glyph-1602619927360319-0-12\" x=\"349.65182\" y=\"17.630471\"/>\n</g>\n<g style=\"fill:rgb(0%,0%,0%);fill-opacity:1;\">\n  <use xlink:href=\"#glyph-1602619927360319-0-16\" x=\"206.68752\" y=\"260.568794\"/>\n  <use xlink:href=\"#glyph-1602619927360319-0-17\" x=\"217.454711\" y=\"260.568794\"/>\n  <use xlink:href=\"#glyph-1602619927360319-0-3\" x=\"226.36549\" y=\"260.568794\"/>\n  <use xlink:href=\"#glyph-1602619927360319-0-18\" x=\"241.732458\" y=\"260.568794\"/>\n</g>\n<g style=\"fill:rgb(0%,0%,0%);fill-opacity:1;\">\n  <use xlink:href=\"#glyph-1602619927360319-0-2\" x=\"252.252127\" y=\"260.568794\"/>\n  <use xlink:href=\"#glyph-1602619927360319-0-6\" x=\"261.946724\" y=\"260.568794\"/>\n  <use xlink:href=\"#glyph-1602619927360319-0-5\" x=\"266.546501\" y=\"260.568794\"/>\n  <use xlink:href=\"#glyph-1602619927360319-0-19\" x=\"271.146278\" y=\"260.568794\"/>\n</g>\n<g style=\"fill:rgb(0%,0%,0%);fill-opacity:1;\">\n  <use xlink:href=\"#glyph-1602619927360319-0-20\" x=\"286.22447\" y=\"260.568794\"/>\n  <use xlink:href=\"#glyph-1602619927360319-0-21\" x=\"294.846473\" y=\"260.568794\"/>\n  <use xlink:href=\"#glyph-1602619927360319-0-4\" x=\"303.757252\" y=\"260.568794\"/>\n</g>\n<g style=\"fill:rgb(0%,0%,0%);fill-opacity:1;\">\n  <use xlink:href=\"#glyph-1602619927360319-0-11\" x=\"313.204327\" y=\"260.568794\"/>\n  <use xlink:href=\"#glyph-1602619927360319-0-20\" x=\"319.804904\" y=\"260.568794\"/>\n  <use xlink:href=\"#glyph-1602619927360319-0-12\" x=\"328.426907\" y=\"260.568794\"/>\n  <use xlink:href=\"#glyph-1602619927360319-0-12\" x=\"335.852556\" y=\"260.568794\"/>\n  <use xlink:href=\"#glyph-1602619927360319-0-5\" x=\"343.278205\" y=\"260.568794\"/>\n  <use xlink:href=\"#glyph-1602619927360319-0-2\" x=\"347.877982\" y=\"260.568794\"/>\n  <use xlink:href=\"#glyph-1602619927360319-0-9\" x=\"357.572579\" y=\"260.568794\"/>\n  <use xlink:href=\"#glyph-1602619927360319-0-12\" x=\"367.555951\" y=\"260.568794\"/>\n</g>\n<g style=\"fill:rgb(0%,0%,0%);fill-opacity:1;\">\n  <use xlink:href=\"#glyph-1602619927360319-0-22\" x=\"3.517334\" y=\"139.298788\"/>\n</g>\n<g style=\"fill:rgb(0%,0%,0%);fill-opacity:1;\">\n  <use xlink:href=\"#glyph-1602619927360319-0-23\" x=\"24.267897\" y=\"139.298788\"/>\n</g>\n<g style=\"fill:rgb(0%,0%,0%);fill-opacity:1;\">\n  <use xlink:href=\"#glyph-1602619927360319-0-24\" x=\"34.766939\" y=\"139.298788\"/>\n  <use xlink:href=\"#glyph-1602619927360319-0-9\" x=\"44.750311\" y=\"139.298788\"/>\n  <use xlink:href=\"#glyph-1602619927360319-0-19\" x=\"54.733684\" y=\"139.298788\"/>\n  <use xlink:href=\"#glyph-1602619927360319-0-8\" x=\"63.355687\" y=\"139.298788\"/>\n  <use xlink:href=\"#glyph-1602619927360319-0-5\" x=\"70.3688\" y=\"139.298788\"/>\n  <use xlink:href=\"#glyph-1602619927360319-0-2\" x=\"74.968577\" y=\"139.298788\"/>\n  <use xlink:href=\"#glyph-1602619927360319-0-9\" x=\"84.663174\" y=\"139.298788\"/>\n</g>\n<g style=\"fill:rgb(0%,0%,0%);fill-opacity:1;\">\n  <use xlink:href=\"#glyph-1602619927360319-0-25\" x=\"101.102735\" y=\"139.298788\"/>\n  <use xlink:href=\"#glyph-1602619927360319-0-11\" x=\"114.03574\" y=\"139.298788\"/>\n  <use xlink:href=\"#glyph-1602619927360319-0-7\" x=\"120.636317\" y=\"139.298788\"/>\n  <use xlink:href=\"#glyph-1602619927360319-0-4\" x=\"129.939005\" y=\"139.298788\"/>\n  <use xlink:href=\"#glyph-1602619927360319-0-26\" x=\"139.922377\" y=\"139.298788\"/>\n  <use xlink:href=\"#glyph-1602619927360319-0-12\" x=\"149.905749\" y=\"139.298788\"/>\n</g>\n</g>\n</svg>\n\n"
     },
     "metadata": {},
     "execution_count": 5
    }
   ],
   "source": [
    "using TikzGraphs\n",
    "using LightGraphs\n",
    "g = DiGraph(3)\n",
    "add_edge!(g, 1, 2)\n",
    "add_edge!(g, 2, 1)\n",
    "add_edge!(g, 2, 3)\n",
    "add_edge!(g, 3, 1)\n",
    "TikzGraphs.plot(g, node_style=\"\", options=\"scale=2, font=\\\\huge\\\\sf\", TikzGraphs.Layouts.SpringElectrical(charge=25,dist=35), [\"Wiring diagrams\", \"Symbolic expressions\", \"Q Function Graphs\"], edge_labels=Dict((2,3)=>\"Compilation\", (3,1)=>\"Parsing\"))"
   ]
  },
  {
   "source": [
    "## Theories and Signatures\n",
    "\n",
    "An algebraic structure consists of 3 things:\n",
    "\n",
    "1. **Sorts**: what \"sort\" of things is it about\n",
    "1. **Operations**: what \"actions\" can be taken on the sorts\n",
    "1. **Equations**: what \"laws\" must hold for the use of the operations on the sorts\n",
    "\n",
    "A **signature** is the pairing of sorts and operations.  A **theory** is a pairing of the signature and the equations."
   ],
   "cell_type": "markdown",
   "metadata": {}
  },
  {
   "source": [
    "![](https://raw.githubusercontent.com/mu-ziq/CatML.jl/wip/docs/gh-deploy/dist/images/maana-q-gats/theory-signature.png)"
   ],
   "cell_type": "markdown",
   "metadata": {}
  },
  {
   "source": [
    "## Theory: `Category`\n",
    "\n",
    "* **Service URI**: `/maana-cat-category`\n",
    "\n",
    "![](https://raw.githubusercontent.com/mu-ziq/CatML.jl/wip/docs/gh-deploy/dist/images/maana-q-gats/category-theory.png)"
   ],
   "cell_type": "markdown",
   "metadata": {}
  },
  {
   "source": [
    "### Equation: `isAssociative`\n",
    "\n",
    "![](https://raw.githubusercontent.com/mu-ziq/CatML.jl/wip/docs/gh-deploy/dist/images/maana-q-gats/category-is-associative.png)"
   ],
   "cell_type": "markdown",
   "metadata": {}
  },
  {
   "source": [
    "### Equation: `isUnital`\n",
    "\n",
    "![](https://raw.githubusercontent.com/mu-ziq/CatML.jl/wip/docs/gh-deploy/dist/images/maana-q-gats/category-is-unital.png)"
   ],
   "cell_type": "markdown",
   "metadata": {}
  },
  {
   "source": [
    "## Theory: `Monoid`\n",
    "\n",
    "* **Service URI**: `/maana-cat-monoid`\n",
    "\n",
    "![](https://raw.githubusercontent.com/mu-ziq/CatML.jl/wip/docs/gh-deploy/dist/images/maana-q-gats/monoid-theory.png)"
   ],
   "cell_type": "markdown",
   "metadata": {}
  },
  {
   "source": [
    "### Equation: `isAssociative`\n",
    "\n",
    "![](https://raw.githubusercontent.com/mu-ziq/CatML.jl/wip/docs/gh-deploy/dist/images/maana-q-gats/monoid-is-associative.png)"
   ],
   "cell_type": "markdown",
   "metadata": {}
  },
  {
   "source": [
    "### Equation: `isUnital`\n",
    "\n",
    "![](https://raw.githubusercontent.com/mu-ziq/CatML.jl/wip/docs/gh-deploy/dist/images/maana-q-gats/monoid-is-unital.png)"
   ],
   "cell_type": "markdown",
   "metadata": {}
  },
  {
   "source": [
    "## Algebraic Theory Instances"
   ],
   "cell_type": "markdown",
   "metadata": {}
  },
  {
   "source": [
    "### Smart CRUD\n",
    "\n",
    "![](https://raw.githubusercontent.com/mu-ziq/CatML.jl/wip/docs/gh-deploy/dist/images/maana-q-gats/theory-smart-crud.png)"
   ],
   "cell_type": "markdown",
   "metadata": {}
  },
  {
   "source": [
    "### Graph*i*QL\n",
    "\n",
    "![](https://raw.githubusercontent.com/mu-ziq/CatML.jl/wip/docs/gh-deploy/dist/images/maana-q-gats/algebraic-instance-graphiql.png)"
   ],
   "cell_type": "markdown",
   "metadata": {}
  },
  {
   "source": [
    "### GraphQL"
   ],
   "cell_type": "markdown",
   "metadata": {}
  },
  {
   "source": [
    "```graphql\n",
    "mutation persist($theorys: [TheoryAsInput]) {\n",
    "  persistTheorys(theorys: $theorys)\n",
    "}\n",
    "\n",
    "fragment theoryFields on Theory {\n",
    "  id\n",
    "  signature {\n",
    "    ...signatureFields\n",
    "  }\n",
    "  equations {\n",
    "    ...equationFields\n",
    "  }\n",
    "}\n",
    "\n",
    "fragment signatureFields on Signature {\n",
    "  id\n",
    "  sorts {\n",
    "    id\n",
    "  }\n",
    "  operations {\n",
    "    id\n",
    "  }\n",
    "}\n",
    "\n",
    "fragment equationFields on Equation {\n",
    "  id\n",
    "}\n",
    "\n",
    "query get {\n",
    "  allTheorys {\n",
    "    ...theoryFields\n",
    "  }\n",
    "}\n",
    "```"
   ],
   "cell_type": "markdown",
   "metadata": {}
  },
  {
   "source": [
    "### JSON"
   ],
   "cell_type": "markdown",
   "metadata": {}
  },
  {
   "source": [
    "```json\n",
    "{\"theorys\":[{\n",
    "    \"id\": \"/maana-cat-monoid\", \n",
    "    \"signature\": {\n",
    "      \"id\": \"/maana-cat-monoid\", \n",
    "      \"sorts\": [\n",
    "        {\"id\": \"/maana-cat-monoid/kind/M\"}\n",
    "      ], \n",
    "      \"operations\": [\n",
    "        {\"id\": \"/maana-cat-monoid/fn/e\"},\n",
    "        {\"id\": \"/maana-cat-monoid/fn/m\"}\n",
    "      ]},\n",
    "    \"equations\": [\n",
    "      {\"id\": \"/maana-cat-monoid/fn/isAssociative\"},\n",
    "      {\"id\": \"/maana-cat-monoid/fn/isUnital\"},\n",
    "      {\"id\": \"/maana-cat-monoid/fn/isEqual\"}\n",
    "    ]\n",
    "},{\n",
    "    \"id\": \"/maana-cat-category\", \n",
    "    \"signature\": {\n",
    "      \"id\": \"/maana-cat-category\", \n",
    "      \"sorts\": [\n",
    "        {\"id\": \"/maana-cat-category/kind/Ob\"},\n",
    "        {\"id\": \"/maana-cat-category/kind/Hom\"}\n",
    "      ], \n",
    "      \"operations\": [\n",
    "        {\"id\": \"/maana-cat-category/fn/id\"},\n",
    "        {\"id\": \"/maana-cat-category/fn/compose\"},\n",
    "        {\"id\": \"/maana-cat-category/fn/apply\"}\n",
    "      ]},\n",
    "    \"equations\": [\n",
    "      {\"id\": \"/maana-cat-category/fn/isAssociative\"},\n",
    "      {\"id\": \"/maana-cat-category/fn/isUnital\"},\n",
    "      {\"id\": \"/maana-cat-category/fn/isEqual\"}\n",
    "    ]\n",
    "}]}\n",
    "```"
   ],
   "cell_type": "markdown",
   "metadata": {}
  },
  {
   "source": [
    "### Theory DataView\n",
    "\n",
    "![](https://raw.githubusercontent.com/mu-ziq/CatML.jl/wip/docs/gh-deploy/dist/images/maana-q-gats/theory-dataview.png)"
   ],
   "cell_type": "markdown",
   "metadata": {}
  },
  {
   "source": [
    "### Signature DataView\n",
    "\n",
    "![](https://raw.githubusercontent.com/mu-ziq/CatML.jl/wip/docs/gh-deploy/dist/images/maana-q-gats/signature-dataview.png)"
   ],
   "cell_type": "markdown",
   "metadata": {}
  },
  {
   "source": [
    "### Equation DataView\n",
    "\n",
    "![](https://raw.githubusercontent.com/mu-ziq/CatML.jl/wip/docs/gh-deploy/dist/images/maana-q-gats/equation-dataview.png)"
   ],
   "cell_type": "markdown",
   "metadata": {}
  },
  {
   "source": [
    "### Sort DataView\n",
    "\n",
    "![](https://raw.githubusercontent.com/mu-ziq/CatML.jl/wip/docs/gh-deploy/dist/images/maana-q-gats/sort-dataview.png)"
   ],
   "cell_type": "markdown",
   "metadata": {}
  },
  {
   "source": [
    "### Operation DataView\n",
    "\n",
    "![](https://raw.githubusercontent.com/mu-ziq/CatML.jl/wip/docs/gh-deploy/dist/images/maana-q-gats/operation-dataview.png)"
   ],
   "cell_type": "markdown",
   "metadata": {}
  },
  {
   "source": [
    "## Signatures Define Instances"
   ],
   "cell_type": "markdown",
   "metadata": {}
  },
  {
   "source": [
    "To operate within a theory means to construct (or generate) *instances*.  These theories provide *stub* functions that you must implement in a context-appropriate way.  These stub functions are provided as **workspace templates** that you *clone* to then provide your logic."
   ],
   "cell_type": "markdown",
   "metadata": {}
  },
  {
   "source": [
    "### Workspace Templates\n",
    "\n",
    "![](https://raw.githubusercontent.com/mu-ziq/CatML.jl/wip/docs/gh-deploy/dist/images/maana-q-gats/monoid-template.png)\n",
    "\n",
    "![](https://raw.githubusercontent.com/mu-ziq/CatML.jl/wip/docs/gh-deploy/dist/images/maana-q-gats/category-template.png)"
   ],
   "cell_type": "markdown",
   "metadata": {}
  },
  {
   "source": [
    "### Instance: Category of Matrices\n",
    "\n",
    "Instance of `Category` with *(element type, dimension)* pairs as objects and *matrices* as morphisms."
   ],
   "cell_type": "markdown",
   "metadata": {}
  },
  {
   "source": [
    "## Signatures Define Symbolic Expressions"
   ],
   "cell_type": "markdown",
   "metadata": {}
  }
 ],
 "metadata": {
  "@webio": {
   "lastCommId": null,
   "lastKernelId": null
  },
  "kernelspec": {
   "name": "julia-1.4",
   "display_name": "Julia 1.4.1"
  },
  "language_info": {
   "file_extension": ".jl",
   "mimetype": "application/julia",
   "name": "julia",
   "version": "3.8.3-final"
  }
 },
 "nbformat": 4,
 "nbformat_minor": 1
}