{
 "cells": [
  {
   "source": [
    "# Maana Q: Knowledge and Reasoning Platform"
   ],
   "cell_type": "markdown",
   "metadata": {}
  },
  {
   "cell_type": "markdown",
   "metadata": {},
   "source": [
    "## Installation"
   ]
  },
  {
   "cell_type": "code",
   "execution_count": 17,
   "metadata": {},
   "outputs": [
    {
     "output_type": "stream",
     "name": "stderr",
     "text": [
      "\u001b[32m\u001b[1m Activating\u001b[22m\u001b[39m new environment at `/var/folders/sg/1_7xybtx76j654qjl99l92ph0000gq/T/jl_anBgTg/Project.toml`\n",
      "\u001b[32m\u001b[1m  Resolving\u001b[22m\u001b[39m package versions...\n",
      "\u001b[32m\u001b[1mUpdating\u001b[22m\u001b[39m `/private/var/folders/sg/1_7xybtx76j654qjl99l92ph0000gq/T/jl_anBgTg/Project.toml`\n",
      " \u001b[90m [134e5e36] \u001b[39m\u001b[92m+ Catlab v0.9.1\u001b[39m\n",
      "\u001b[32m\u001b[1mUpdating\u001b[22m\u001b[39m `/private/var/folders/sg/1_7xybtx76j654qjl99l92ph0000gq/T/jl_anBgTg/Manifest.toml`\n",
      " \u001b[90m [79e6a3ab] \u001b[39m\u001b[92m+ Adapt v2.3.0\u001b[39m\n",
      " \u001b[90m [ec485272] \u001b[39m\u001b[92m+ ArnoldiMethod v0.0.4\u001b[39m\n",
      " \u001b[90m [56f22d72] \u001b[39m\u001b[92m+ Artifacts v1.3.0\u001b[39m\n",
      " \u001b[90m [15f4f7f2] \u001b[39m\u001b[92m+ AutoHashEquals v0.2.0\u001b[39m\n",
      " \u001b[90m [a603d957] \u001b[39m\u001b[92m+ CanonicalTraits v0.2.3\u001b[39m\n",
      " \u001b[90m [134e5e36] \u001b[39m\u001b[92m+ Catlab v0.9.1\u001b[39m\n",
      " \u001b[90m [944b1d66] \u001b[39m\u001b[92m+ CodecZlib v0.7.0\u001b[39m\n",
      " \u001b[90m [3da002f7] \u001b[39m\u001b[92m+ ColorTypes v0.10.9\u001b[39m\n",
      " \u001b[90m [5ae59095] \u001b[39m\u001b[92m+ Colors v0.12.4\u001b[39m\n",
      " \u001b[90m [34da2185] \u001b[39m\u001b[92m+ Compat v3.20.0\u001b[39m\n",
      " \u001b[90m [a81c6b42] \u001b[39m\u001b[92m+ Compose v0.9.1\u001b[39m\n",
      " \u001b[90m [a8cc5b0e] \u001b[39m\u001b[92m+ Crayons v4.0.4\u001b[39m\n",
      " \u001b[90m [9a962f9c] \u001b[39m\u001b[92m+ DataAPI v1.3.0\u001b[39m\n",
      " \u001b[90m [864edb3b] \u001b[39m\u001b[92m+ DataStructures v0.18.7\u001b[39m\n",
      " \u001b[90m [e2d170a0] \u001b[39m\u001b[92m+ DataValueInterfaces v1.0.0\u001b[39m\n",
      " \u001b[90m [53c48c17] \u001b[39m\u001b[92m+ FixedPointNumbers v0.8.4\u001b[39m\n",
      " \u001b[90m [59287772] \u001b[39m\u001b[92m+ Formatting v0.4.1\u001b[39m\n",
      " \u001b[90m [069b7b12] \u001b[39m\u001b[92m+ FunctionWrappers v1.1.1\u001b[39m\n",
      " \u001b[90m [6b9d7cbe] \u001b[39m\u001b[92m+ GeneralizedGenerated v0.2.7\u001b[39m\n",
      " \u001b[90m [d25df0c9] \u001b[39m\u001b[92m+ Inflate v0.1.2\u001b[39m\n",
      " \u001b[90m [c8e1da08] \u001b[39m\u001b[92m+ IterTools v1.3.0\u001b[39m\n",
      " \u001b[90m [82899510] \u001b[39m\u001b[92m+ IteratorInterfaceExtensions v1.0.0\u001b[39m\n",
      " \u001b[90m [033835bb] \u001b[39m\u001b[92m+ JLD2 v0.2.4\u001b[39m\n",
      " \u001b[90m [692b3bcd] \u001b[39m\u001b[92m+ JLLWrappers v1.1.2\u001b[39m\n",
      " \u001b[90m [682c06a0] \u001b[39m\u001b[92m+ JSON v0.21.1\u001b[39m\n",
      " \u001b[90m [b14d175d] \u001b[39m\u001b[92m+ JuliaVariables v0.2.3\u001b[39m\n",
      " \u001b[90m [94ce4f54] \u001b[39m\u001b[92m+ Libiconv_jll v1.16.0+6\u001b[39m\n",
      " \u001b[90m [093fc24a] \u001b[39m\u001b[92m+ LightGraphs v1.3.0\u001b[39m\n",
      " \u001b[90m [9c8b4983] \u001b[39m\u001b[92m+ LightXML v0.9.0\u001b[39m\n",
      " \u001b[90m [d8e11817] \u001b[39m\u001b[92m+ MLStyle v0.4.6\u001b[39m\n",
      " \u001b[90m [1914dd2f] \u001b[39m\u001b[92m+ MacroTools v0.5.5\u001b[39m\n",
      " \u001b[90m [442fdcdd] \u001b[39m\u001b[92m+ Measures v0.3.1\u001b[39m\n",
      " \u001b[90m [626554b9] \u001b[39m\u001b[92m+ MetaGraphs v0.6.6\u001b[39m\n",
      " \u001b[90m [71a1bf82] \u001b[39m\u001b[92m+ NameResolution v0.1.5\u001b[39m\n",
      " \u001b[90m [bac558e1] \u001b[39m\u001b[92m+ OrderedCollections v1.3.1\u001b[39m\n",
      " \u001b[90m [d96e819e] \u001b[39m\u001b[92m+ Parameters v0.12.1\u001b[39m\n",
      " \u001b[90m [69de0a69] \u001b[39m\u001b[92m+ Parsers v1.0.11\u001b[39m\n",
      " \u001b[90m [8162dcfd] \u001b[39m\u001b[92m+ PrettyPrint v0.2.0\u001b[39m\n",
      " \u001b[90m [08abe8d2] \u001b[39m\u001b[92m+ PrettyTables v0.9.1\u001b[39m\n",
      " \u001b[90m [189a3867] \u001b[39m\u001b[92m+ Reexport v0.2.0\u001b[39m\n",
      " \u001b[90m [ae029012] \u001b[39m\u001b[92m+ Requires v1.1.0\u001b[39m\n",
      " \u001b[90m [699a6c99] \u001b[39m\u001b[92m+ SimpleTraits v0.9.3\u001b[39m\n",
      " \u001b[90m [90137ffa] \u001b[39m\u001b[92m+ StaticArrays v0.12.4\u001b[39m\n",
      " \u001b[90m [09ab397b] \u001b[39m\u001b[92m+ StructArrays v0.4.4\u001b[39m\n",
      " \u001b[90m [3783bdb8] \u001b[39m\u001b[92m+ TableTraits v1.0.0\u001b[39m\n",
      " \u001b[90m [bd369af6] \u001b[39m\u001b[92m+ Tables v1.1.0\u001b[39m\n",
      " \u001b[90m [3bb67fe8] \u001b[39m\u001b[92m+ TranscodingStreams v0.9.5\u001b[39m\n",
      " \u001b[90m [3a884ed6] \u001b[39m\u001b[92m+ UnPack v1.0.2\u001b[39m\n",
      " \u001b[90m [02c8fc9c] \u001b[39m\u001b[92m+ XML2_jll v2.9.10+2\u001b[39m\n",
      " \u001b[90m [83775a58] \u001b[39m\u001b[92m+ Zlib_jll v1.2.11+17\u001b[39m\n",
      " \u001b[90m [2a0f44e3] \u001b[39m\u001b[92m+ Base64\u001b[39m\n",
      " \u001b[90m [ade2ca70] \u001b[39m\u001b[92m+ Dates\u001b[39m\n",
      " \u001b[90m [8bb1440f] \u001b[39m\u001b[92m+ DelimitedFiles\u001b[39m\n",
      " \u001b[90m [8ba89e20] \u001b[39m\u001b[92m+ Distributed\u001b[39m\n",
      " \u001b[90m [b77e0a4c] \u001b[39m\u001b[92m+ InteractiveUtils\u001b[39m\n",
      " \u001b[90m [76f85450] \u001b[39m\u001b[92m+ LibGit2\u001b[39m\n",
      " \u001b[90m [8f399da3] \u001b[39m\u001b[92m+ Libdl\u001b[39m\n",
      " \u001b[90m [37e2e46d] \u001b[39m\u001b[92m+ LinearAlgebra\u001b[39m\n",
      " \u001b[90m [56ddb016] \u001b[39m\u001b[92m+ Logging\u001b[39m\n",
      " \u001b[90m [d6f4376e] \u001b[39m\u001b[92m+ Markdown\u001b[39m\n",
      " \u001b[90m [a63ad114] \u001b[39m\u001b[92m+ Mmap\u001b[39m\n",
      " \u001b[90m [44cfe95a] \u001b[39m\u001b[92m+ Pkg\u001b[39m\n",
      " \u001b[90m [de0858da] \u001b[39m\u001b[92m+ Printf\u001b[39m\n",
      " \u001b[90m [3fa0cd96] \u001b[39m\u001b[92m+ REPL\u001b[39m\n",
      " \u001b[90m [9a3f8284] \u001b[39m\u001b[92m+ Random\u001b[39m\n",
      " \u001b[90m [ea8e919c] \u001b[39m\u001b[92m+ SHA\u001b[39m\n",
      " \u001b[90m [9e88b42a] \u001b[39m\u001b[92m+ Serialization\u001b[39m\n",
      " \u001b[90m [1a1011a3] \u001b[39m\u001b[92m+ SharedArrays\u001b[39m\n",
      " \u001b[90m [6462fe0b] \u001b[39m\u001b[92m+ Sockets\u001b[39m\n",
      " \u001b[90m [2f01184e] \u001b[39m\u001b[92m+ SparseArrays\u001b[39m\n",
      " \u001b[90m [10745b16] \u001b[39m\u001b[92m+ Statistics\u001b[39m\n",
      " \u001b[90m [8dfed614] \u001b[39m\u001b[92m+ Test\u001b[39m\n",
      " \u001b[90m [cf7118a7] \u001b[39m\u001b[92m+ UUIDs\u001b[39m\n",
      " \u001b[90m [4ec0a83e] \u001b[39m\u001b[92m+ Unicode\u001b[39m\n",
      "\u001b[32m\u001b[1m  Resolving\u001b[22m\u001b[39m package versions...\n",
      "\u001b[32m\u001b[1mUpdating\u001b[22m\u001b[39m `/private/var/folders/sg/1_7xybtx76j654qjl99l92ph0000gq/T/jl_anBgTg/Project.toml`\n",
      " \u001b[90m [37f6aa50] \u001b[39m\u001b[92m+ TikzPictures v3.3.1\u001b[39m\n",
      "\u001b[32m\u001b[1mUpdating\u001b[22m\u001b[39m `/private/var/folders/sg/1_7xybtx76j654qjl99l92ph0000gq/T/jl_anBgTg/Manifest.toml`\n",
      " \u001b[90m [6e34b625] \u001b[39m\u001b[92m+ Bzip2_jll v1.0.6+5\u001b[39m\n",
      " \u001b[90m [83423d85] \u001b[39m\u001b[92m+ Cairo_jll v1.16.0+5\u001b[39m\n",
      " \u001b[90m [2e619515] \u001b[39m\u001b[92m+ Expat_jll v2.2.7+5\u001b[39m\n",
      " \u001b[90m [a3f928ae] \u001b[39m\u001b[92m+ Fontconfig_jll v2.13.1+13\u001b[39m\n",
      " \u001b[90m [d7e528f0] \u001b[39m\u001b[92m+ FreeType2_jll v2.10.1+5\u001b[39m\n",
      " \u001b[90m [78b55507] \u001b[39m\u001b[92m+ Gettext_jll v0.20.1+6\u001b[39m\n",
      " \u001b[90m [7746bdde] \u001b[39m\u001b[92m+ Glib_jll v2.59.0+3\u001b[39m\n",
      " \u001b[90m [aacddb02] \u001b[39m\u001b[92m+ JpegTurbo_jll v2.0.1+2\u001b[39m\n",
      " \u001b[90m [dd4b983a] \u001b[39m\u001b[92m+ LZO_jll v2.10.0+2\u001b[39m\n",
      " \u001b[90m [b964fa9f] \u001b[39m\u001b[92m+ LaTeXStrings v1.2.0\u001b[39m\n",
      " \u001b[90m [e9f186c6] \u001b[39m\u001b[92m+ Libffi_jll v3.2.1+3\u001b[39m\n",
      " \u001b[90m [d4300ac3] \u001b[39m\u001b[92m+ Libgcrypt_jll v1.8.5+3\u001b[39m\n",
      " \u001b[90m [7add5ba3] \u001b[39m\u001b[92m+ Libgpg_error_jll v1.36.0+2\u001b[39m\n",
      " \u001b[90m [4b2f31a3] \u001b[39m\u001b[92m+ Libmount_jll v2.34.0+2\u001b[39m\n",
      " \u001b[90m [89763e89] \u001b[39m\u001b[92m+ Libtiff_jll v4.1.0+1\u001b[39m\n",
      " \u001b[90m [38a345b3] \u001b[39m\u001b[92m+ Libuuid_jll v2.34.0+6\u001b[39m\n",
      " \u001b[90m [d3a379c0] \u001b[39m\u001b[92m+ LittleCMS_jll v2.9.0+0\u001b[39m\n",
      " \u001b[90m [643b3616] \u001b[39m\u001b[92m+ OpenJpeg_jll v2.3.1+0\u001b[39m\n",
      " \u001b[90m [2f80f16e] \u001b[39m\u001b[92m+ PCRE_jll v8.42.0+3\u001b[39m\n",
      " \u001b[90m [30392449] \u001b[39m\u001b[92m+ Pixman_jll v0.38.4+4\u001b[39m\n",
      " \u001b[90m [9c32591e] \u001b[39m\u001b[92m+ Poppler_jll v0.87.0+0\u001b[39m\n",
      " \u001b[90m [37f6aa50] \u001b[39m\u001b[92m+ TikzPictures v3.3.1\u001b[39m\n",
      " \u001b[90m [aed1982a] \u001b[39m\u001b[92m+ XSLT_jll v1.1.33+3\u001b[39m\n",
      " \u001b[90m [4f6342f7] \u001b[39m\u001b[92m+ Xorg_libX11_jll v1.6.9+3\u001b[39m\n",
      " \u001b[90m [0c0b7dd1] \u001b[39m\u001b[92m+ Xorg_libXau_jll v1.0.9+3\u001b[39m\n",
      " \u001b[90m [a3789734] \u001b[39m\u001b[92m+ Xorg_libXdmcp_jll v1.1.3+3\u001b[39m\n",
      " \u001b[90m [1082639a] \u001b[39m\u001b[92m+ Xorg_libXext_jll v1.3.4+3\u001b[39m\n",
      " \u001b[90m [ea2f1a96] \u001b[39m\u001b[92m+ Xorg_libXrender_jll v0.9.10+3\u001b[39m\n",
      " \u001b[90m [14d82f49] \u001b[39m\u001b[92m+ Xorg_libpthread_stubs_jll v0.1.0+2\u001b[39m\n",
      " \u001b[90m [c7cfdc94] \u001b[39m\u001b[92m+ Xorg_libxcb_jll v1.13.0+2\u001b[39m\n",
      " \u001b[90m [c5fb5394] \u001b[39m\u001b[92m+ Xorg_xtrans_jll v1.4.0+2\u001b[39m\n",
      " \u001b[90m [3161d3a3] \u001b[39m\u001b[92m+ Zstd_jll v1.4.5+1\u001b[39m\n",
      " \u001b[90m [b53b4c65] \u001b[39m\u001b[92m+ libpng_jll v1.6.37+5\u001b[39m\n",
      "\u001b[32m\u001b[1m  Resolving\u001b[22m\u001b[39m package versions...\n",
      "\u001b[32m\u001b[1mUpdating\u001b[22m\u001b[39m `/private/var/folders/sg/1_7xybtx76j654qjl99l92ph0000gq/T/jl_anBgTg/Project.toml`\n",
      " \u001b[90m [b4f28e30] \u001b[39m\u001b[92m+ TikzGraphs v1.1.0\u001b[39m\n",
      "\u001b[32m\u001b[1mUpdating\u001b[22m\u001b[39m `/private/var/folders/sg/1_7xybtx76j654qjl99l92ph0000gq/T/jl_anBgTg/Manifest.toml`\n",
      " \u001b[90m [b4f28e30] \u001b[39m\u001b[92m+ TikzGraphs v1.1.0\u001b[39m\n",
      "\u001b[32m\u001b[1m  Resolving\u001b[22m\u001b[39m package versions...\n",
      "\u001b[32m\u001b[1mUpdating\u001b[22m\u001b[39m `/private/var/folders/sg/1_7xybtx76j654qjl99l92ph0000gq/T/jl_anBgTg/Project.toml`\n",
      " \u001b[90m [093fc24a] \u001b[39m\u001b[92m+ LightGraphs v1.3.0\u001b[39m\n",
      "\u001b[32m\u001b[1mNo Changes\u001b[22m\u001b[39m to `/private/var/folders/sg/1_7xybtx76j654qjl99l92ph0000gq/T/jl_anBgTg/Manifest.toml`\n",
      "\u001b[32m\u001b[1m  Resolving\u001b[22m\u001b[39m package versions...\n",
      "\u001b[32m\u001b[1mUpdating\u001b[22m\u001b[39m `/private/var/folders/sg/1_7xybtx76j654qjl99l92ph0000gq/T/jl_anBgTg/Project.toml`\n",
      " \u001b[90m [f65535da] \u001b[39m\u001b[92m+ Convex v0.13.7\u001b[39m\n",
      "\u001b[32m\u001b[1mUpdating\u001b[22m\u001b[39m `/private/var/folders/sg/1_7xybtx76j654qjl99l92ph0000gq/T/jl_anBgTg/Manifest.toml`\n",
      " \u001b[90m [1520ce14] \u001b[39m\u001b[92m+ AbstractTrees v0.3.3\u001b[39m\n",
      " \u001b[90m [6e4b80f9] \u001b[39m\u001b[92m+ BenchmarkTools v0.5.0\u001b[39m\n",
      " \u001b[90m [523fee87] \u001b[39m\u001b[92m+ CodecBzip2 v0.7.2\u001b[39m\n",
      " \u001b[90m [f65535da] \u001b[39m\u001b[92m+ Convex v0.13.7\u001b[39m\n",
      " \u001b[90m [cd3eb016] \u001b[39m\u001b[92m+ HTTP v0.8.19\u001b[39m\n",
      " \u001b[90m [83e8ac13] \u001b[39m\u001b[92m+ IniFile v0.5.0\u001b[39m\n",
      " \u001b[90m [7d188eb4] \u001b[39m\u001b[92m+ JSONSchema v0.3.2\u001b[39m\n",
      " \u001b[90m [b8f27783] \u001b[39m\u001b[92m+ MathOptInterface v0.9.17\u001b[39m\n",
      " \u001b[90m [739be429] \u001b[39m\u001b[92m+ MbedTLS v1.0.2\u001b[39m\n",
      " \u001b[90m [c8ffd9c3] \u001b[39m\u001b[92m+ MbedTLS_jll v2.16.8+0\u001b[39m\n",
      " \u001b[90m [d8a4904e] \u001b[39m\u001b[92m+ MutableArithmetics v0.2.10\u001b[39m\n",
      " \u001b[90m [a5390f91] \u001b[39m\u001b[92m+ ZipFile v0.9.3\u001b[39m\n",
      "\u001b[32m\u001b[1m  Resolving\u001b[22m\u001b[39m package versions...\n",
      "\u001b[32m\u001b[1mUpdating\u001b[22m\u001b[39m `/private/var/folders/sg/1_7xybtx76j654qjl99l92ph0000gq/T/jl_anBgTg/Project.toml`\n",
      " \u001b[90m [c946c3f1] \u001b[39m\u001b[92m+ SCS v0.7.0\u001b[39m\n",
      "\u001b[32m\u001b[1mUpdating\u001b[22m\u001b[39m `/private/var/folders/sg/1_7xybtx76j654qjl99l92ph0000gq/T/jl_anBgTg/Manifest.toml`\n",
      " \u001b[90m [b99e7846] \u001b[39m\u001b[92m+ BinaryProvider v0.5.10\u001b[39m\n",
      " \u001b[90m [e66e0078] \u001b[39m\u001b[92m+ CompilerSupportLibraries_jll v0.3.3+0\u001b[39m\n",
      " \u001b[90m [fdba3010] \u001b[39m\u001b[92m+ MathProgBase v0.7.8\u001b[39m\n",
      " \u001b[90m [4536629a] \u001b[39m\u001b[92m+ OpenBLAS_jll v0.3.10+0\u001b[39m\n",
      " \u001b[90m [c946c3f1] \u001b[39m\u001b[92m+ SCS v0.7.0\u001b[39m\n",
      " \u001b[90m [f4f2fc5b] \u001b[39m\u001b[92m+ SCS_jll v2.1.2+0\u001b[39m\n"
     ]
    }
   ],
   "source": [
    "using Pkg\n",
    "Pkg.activate(mktempdir())\n",
    "\n",
    "Pkg.add(\"Catlab\")\n",
    "using Catlab.GAT\n",
    "using Catlab.Theories\n",
    "using Catlab.Present\t\n",
    "using Catlab.Programs\t\n",
    "using Catlab.WiringDiagrams\n",
    "using Catlab.Graphics\n",
    "\n",
    "Pkg.add(\"TikzPictures\")\n",
    "using TikzPictures\n",
    "\n",
    "Pkg.add(\"TikzGraphs\")\n",
    "using TikzGraphs\n",
    "\n",
    "Pkg.add(\"LightGraphs\")\n",
    "using LightGraphs\n",
    "\n",
    "Pkg.add(\"Convex\") \n",
    "import Convex\n",
    "\n",
    "Pkg.add(\"SCS\")\n",
    "import SCS\n"
   ]
  },
  {
   "source": [
    "## Applied Category Theory using GATs"
   ],
   "cell_type": "markdown",
   "metadata": {}
  },
  {
   "source": [
    "### Two views on category theory and software [^Patterson1]\n",
    "\n",
    "1. Designing with categories: CT informing the design, architecture, and implementation of computer programs, in any domain.\n",
    "\n",
    "**Slogan**: *Design patterns, but better*\n",
    "\n",
    "2. Computing on categories: data structures and algorithms for computing with objects and morphisms in categories.\n",
    "\n",
    "**Slogan**: *Computer algebra of categories* or *computational category theory*\n",
    "\n",
    "**These are orthogonal [and can be layered].**\n",
    "\n",
    "!!! tip\n",
    "\tThis notebook is about how to use Q for computational category theory (mostly).\n",
    "\n",
    "[^Patterson1]: [Evan Patterson: Realizing Applied Category Theory in Julia](https://www.youtube.com/watch?v=7dmrDYQh4rc)"
   ],
   "cell_type": "markdown",
   "metadata": {}
  },
  {
   "source": [
    "### Representing morphisms in monoidal categories"
   ],
   "cell_type": "markdown",
   "metadata": {}
  },
  {
   "source": [
    "Transforming between different **computational representations** of morphisms in symmetric monoidal categories."
   ],
   "cell_type": "markdown",
   "metadata": {}
  },
  {
   "cell_type": "code",
   "execution_count": 16,
   "metadata": {},
   "outputs": [
    {
     "output_type": "execute_result",
     "data": {
      "text/plain": [
       "TikzPictures.TikzPicture(\"\\\\graph [spring electrical layout, random seed = 42, electric charge=25, node distance=35,] {\\n1/\\\"Wiring diagrams\\\" [draw],\\n2/\\\"Symbolic expressions\\\" [draw],\\n3/\\\"Q Function Graphs\\\" [draw],\\n;\\n1 -> [,] 2;\\n2 -> [,] 1;\\n2 -> [,edge label={Compilation},] 3;\\n3 -> [,edge label={Parsing},] 1;\\n};\\n\", \"scale=2, font=\\\\huge\\\\sf\", \"\\\\usepackage{fontspec}\\n\\\\setmainfont{Latin Modern Math}\\n\\\\usetikzlibrary{arrows}\\n\\\\usetikzlibrary{graphs}\\n\\\\usetikzlibrary{graphdrawing}\\n\\n% from: https://tex.stackexchange.com/questions/453132/fresh-install-of-tl2018-no-tikz-graph-drawing-libraries-found\\n\\\\usepackage{luacode}\\n\\\\begin{luacode*}\\n\\tfunction pgf_lookup_and_require(name)\\n\\tlocal sep = package.config:sub(1,1)\\n\\tlocal function lookup(name)\\n\\tlocal sub = name:gsub('%.',sep)  \\n\\tif kpse.find_file(sub, 'lua') then\\n\\trequire(name)\\n\\telseif kpse.find_file(sub, 'clua') then\\n\\tcollectgarbage('stop') \\n\\trequire(name)\\n\\tcollectgarbage('restart')\\n\\telse\\n\\treturn false\\n\\tend\\n\\treturn true\\n\\tend\\n\\treturn\\n\\tlookup('pgf.gd.' .. name .. '.library') or\\n\\tlookup('pgf.gd.' .. name) or\\n\\tlookup(name .. '.library') or\\n\\tlookup(name) \\n\\tend\\n\\\\end{luacode*}\\n\\n\\\\usegdlibrary{force}\", \"tikzpicture\", \"\", \"\", true, true)"
      ],
      "image/svg+xml": "<?xml version=\"1.0\" encoding=\"UTF-8\"?>\n<svg xmlns=\"http://www.w3.org/2000/svg\" xmlns:xlink=\"http://www.w3.org/1999/xlink\" width=\"379.147pt\" height=\"268.933pt\" viewBox=\"0 0 379.147 268.933\" version=\"1.1\">\n<defs>\n<g>\n<symbol overflow=\"visible\" id=\"glyph-1602528155538683-0-0\">\n<path style=\"stroke:none;\" d=\"\"/>\n</symbol>\n<symbol overflow=\"visible\" id=\"glyph-1602528155538683-0-1\">\n<path style=\"stroke:none;\" d=\"M 11.296875 -0.96875 L 11.171875 -2.375 C 10.625 -1.984375 10.078125 -1.59375 9.421875 -1.390625 C 8.78125 -1.171875 8.125 -1.15625 7.453125 -1.15625 C 6.203125 -1.15625 5.0625 -1.875 4.3125 -2.890625 C 3.390625 -4.109375 2.96875 -5.59375 2.96875 -7.078125 C 2.96875 -8.59375 3.390625 -10.09375 4.3125 -11.296875 C 5.0625 -12.296875 6.203125 -13.03125 7.453125 -13.03125 C 8.0625 -13.03125 8.640625 -12.96875 9.1875 -12.78125 C 9.765625 -12.625 10.28125 -12.3125 10.796875 -12 L 11.09375 -13.65625 C 10.515625 -13.875 9.921875 -14.0625 9.296875 -14.1875 C 8.703125 -14.3125 8.078125 -14.359375 7.453125 -14.359375 C 5.765625 -14.359375 4.1875 -13.53125 3.078125 -12.234375 C 1.859375 -10.796875 1.265625 -8.96875 1.265625 -7.078125 C 1.265625 -5.21875 1.859375 -3.390625 3.078125 -1.96875 C 4.1875 -0.65625 5.765625 0.171875 7.453125 0.171875 C 8.140625 0.171875 8.8125 0.140625 9.484375 -0.046875 C 10.140625 -0.25 10.71875 -0.59375 11.296875 -0.96875 Z M 11.296875 -0.96875 \"/>\n</symbol>\n<symbol overflow=\"visible\" id=\"glyph-1602528155538683-0-2\">\n<path style=\"stroke:none;\" d=\"M 9.125 -4.421875 C 9.125 -7.0625 7.171875 -9.125 4.859375 -9.125 C 2.484375 -9.125 0.5625 -7 0.5625 -4.421875 C 0.5625 -1.796875 2.546875 0.171875 4.828125 0.171875 C 7.1875 0.171875 9.125 -1.859375 9.125 -4.421875 Z M 7.5625 -4.578125 C 7.5625 -2.25 6.21875 -1.109375 4.828125 -1.109375 C 3.390625 -1.109375 2.125 -2.328125 2.125 -4.578125 C 2.125 -6.984375 3.59375 -7.84375 4.828125 -7.84375 C 6.171875 -7.84375 7.5625 -6.90625 7.5625 -4.578125 Z M 7.5625 -4.578125 \"/>\n</symbol>\n<symbol overflow=\"visible\" id=\"glyph-1602528155538683-0-3\">\n<path style=\"stroke:none;\" d=\"M 13.84375 0 L 13.84375 -6.03125 C 13.84375 -7.421875 13.484375 -9.046875 11.171875 -9.046875 C 9.625 -9.046875 8.703125 -8.078125 8.28125 -7.484375 C 7.90625 -8.578125 7.046875 -9.046875 5.796875 -9.046875 C 4.40625 -9.046875 3.515625 -8.234375 3.03125 -7.65625 L 3.03125 -8.9375 L 1.53125 -8.9375 L 1.53125 0 L 3.09375 0 L 3.09375 -5 C 3.09375 -6.21875 3.546875 -7.78125 5.015625 -7.78125 C 6.90625 -7.78125 6.90625 -6.46875 6.90625 -5.859375 L 6.90625 0 L 8.46875 0 L 8.46875 -5 C 8.46875 -6.21875 8.921875 -7.78125 10.390625 -7.78125 C 12.265625 -7.78125 12.265625 -6.46875 12.265625 -5.859375 L 12.265625 0 Z M 13.84375 0 \"/>\n</symbol>\n<symbol overflow=\"visible\" id=\"glyph-1602528155538683-0-4\">\n<path style=\"stroke:none;\" d=\"M 9.296875 -4.46875 C 9.296875 -6.90625 8.0625 -9.046875 6.28125 -9.046875 C 5.25 -9.046875 4 -8.671875 3.078125 -7.9375 L 3.078125 -8.875 L 1.546875 -8.875 L 1.546875 4.03125 L 3.125 4.03125 L 3.125 -0.921875 C 3.796875 -0.265625 4.734375 0.171875 5.71875 0.171875 C 7.640625 0.171875 9.296875 -1.8125 9.296875 -4.46875 Z M 7.71875 -4.46875 C 7.71875 -2.421875 6.328125 -1.09375 4.9375 -1.09375 C 4.53125 -1.09375 4.09375 -1.203125 3.671875 -1.546875 C 3.125 -2.046875 3.125 -2.359375 3.125 -2.640625 L 3.125 -6.71875 C 3.28125 -6.96875 3.984375 -7.75 5.125 -7.75 C 6.5625 -7.75 7.71875 -6.265625 7.71875 -4.46875 Z M 7.71875 -4.46875 \"/>\n</symbol>\n<symbol overflow=\"visible\" id=\"glyph-1602528155538683-0-5\">\n<path style=\"stroke:none;\" d=\"M 3.0625 0 L 3.0625 -8.875 L 1.53125 -8.875 L 1.53125 0 Z M 3.1875 -11.65625 L 3.1875 -13.390625 L 1.453125 -13.390625 L 1.453125 -11.65625 Z M 3.1875 -11.65625 \"/>\n</symbol>\n<symbol overflow=\"visible\" id=\"glyph-1602528155538683-0-6\">\n<path style=\"stroke:none;\" d=\"M 3.0625 0 L 3.0625 -14.328125 L 1.53125 -14.328125 L 1.53125 0 Z M 3.0625 0 \"/>\n</symbol>\n<symbol overflow=\"visible\" id=\"glyph-1602528155538683-0-7\">\n<path style=\"stroke:none;\" d=\"M 7.96875 0 L 7.96875 -5.84375 C 7.96875 -7.78125 6.59375 -9.125 4.734375 -9.125 C 3.828125 -9.125 2.828125 -8.96875 1.6875 -8.296875 L 1.8125 -6.9375 C 2.328125 -7.3125 3.21875 -7.90625 4.703125 -7.90625 C 5.765625 -7.90625 6.40625 -7.109375 6.40625 -5.828125 L 6.40625 -5.046875 C 3.09375 -4.9375 1.03125 -3.984375 1.03125 -2.359375 C 1.03125 -1.515625 1.546875 0.171875 3.265625 0.171875 C 3.578125 0.171875 5.25 0.125 6.4375 -0.765625 L 6.4375 0 Z M 6.40625 -2.734375 C 6.40625 -2.359375 6.40625 -1.859375 5.78125 -1.484375 C 5.25 -1.140625 4.5625 -1.09375 4.28125 -1.09375 C 3.25 -1.09375 2.546875 -1.671875 2.546875 -2.390625 C 2.546875 -3.84375 5.765625 -3.984375 6.40625 -4 Z M 6.40625 -2.734375 \"/>\n</symbol>\n<symbol overflow=\"visible\" id=\"glyph-1602528155538683-0-8\">\n<path style=\"stroke:none;\" d=\"M 6.46875 -0.59375 L 6.140625 -1.8125 C 5.640625 -1.390625 5.046875 -1.140625 4.40625 -1.140625 C 3.484375 -1.140625 3.453125 -2.296875 3.453125 -2.8125 L 3.453125 -7.6875 L 6.140625 -7.6875 L 6.140625 -8.875 L 3.453125 -8.875 L 3.453125 -11.421875 L 1.984375 -11.421875 L 1.984375 -8.875 L 0.34375 -8.875 L 0.34375 -7.6875 L 1.9375 -7.6875 L 1.9375 -2.453125 C 1.9375 -1.28125 2.203125 0.171875 3.578125 0.171875 C 4.609375 0.171875 5.5625 -0.125 6.46875 -0.59375 Z M 6.46875 -0.59375 \"/>\n</symbol>\n<symbol overflow=\"visible\" id=\"glyph-1602528155538683-0-9\">\n<path style=\"stroke:none;\" d=\"M 8.453125 0 L 8.453125 -6.03125 C 8.453125 -7.328125 8.140625 -9.046875 5.796875 -9.046875 C 4.484375 -9.046875 3.609375 -8.359375 3.03125 -7.65625 L 3.03125 -8.9375 L 1.53125 -8.9375 L 1.53125 0 L 3.09375 0 L 3.09375 -5 C 3.09375 -6.296875 3.59375 -7.78125 5 -7.78125 C 6.8125 -7.78125 6.875 -6.5625 6.875 -5.859375 L 6.875 0 Z M 8.453125 0 \"/>\n</symbol>\n<symbol overflow=\"visible\" id=\"glyph-1602528155538683-0-10\">\n<path style=\"stroke:none;\" d=\"M 11.296875 -10.15625 C 11.296875 -12.390625 9.359375 -14.328125 6.671875 -14.328125 L 1.84375 -14.328125 L 1.84375 0 L 3.578125 0 L 3.578125 -5.96875 L 6.796875 -5.96875 C 9.28125 -5.96875 11.296875 -7.890625 11.296875 -10.15625 Z M 9.671875 -10.15625 C 9.671875 -8.765625 8.703125 -7.171875 6.21875 -7.171875 L 3.53125 -7.171875 L 3.53125 -13.171875 L 6.21875 -13.171875 C 8.609375 -13.171875 9.671875 -11.671875 9.671875 -10.15625 Z M 9.671875 -10.15625 \"/>\n</symbol>\n<symbol overflow=\"visible\" id=\"glyph-1602528155538683-0-11\">\n<path style=\"stroke:none;\" d=\"M 6.328125 -7.6875 L 6.328125 -9.046875 C 5 -9.03125 3.765625 -8.359375 3.015625 -7.296875 L 3.015625 -8.9375 L 1.546875 -8.9375 L 1.546875 0 L 3.078125 0 L 3.078125 -4.40625 C 3.078125 -6.34375 4.5 -7.640625 6.328125 -7.6875 Z M 6.328125 -7.6875 \"/>\n</symbol>\n<symbol overflow=\"visible\" id=\"glyph-1602528155538683-0-12\">\n<path style=\"stroke:none;\" d=\"M 6.984375 -2.5625 C 6.984375 -3.578125 6.40625 -4.25 6.015625 -4.5625 C 5.328125 -5.109375 5.078125 -5.171875 3.390625 -5.515625 C 3.09375 -5.5625 2.09375 -5.78125 2.09375 -6.71875 C 2.09375 -7.890625 3.390625 -7.890625 3.671875 -7.890625 C 5.015625 -7.890625 5.84375 -7.484375 6.40625 -7.171875 L 6.65625 -8.515625 C 5.4375 -9.09375 4.484375 -9.125 3.859375 -9.125 C 2.390625 -9.125 0.640625 -8.609375 0.640625 -6.53125 C 0.640625 -4.4375 2.90625 -3.984375 3.53125 -3.859375 C 4.484375 -3.671875 5.53125 -3.46875 5.53125 -2.4375 C 5.53125 -1.140625 4.046875 -1.140625 3.78125 -1.140625 C 2.953125 -1.140625 1.8125 -1.359375 0.78125 -2.109375 L 0.53125 -0.71875 C 1.71875 -0.046875 2.84375 0.171875 3.796875 0.171875 C 6.34375 0.171875 6.984375 -1.390625 6.984375 -2.5625 Z M 6.984375 -2.5625 \"/>\n</symbol>\n<symbol overflow=\"visible\" id=\"glyph-1602528155538683-0-13\">\n<path style=\"stroke:none;\" d=\"M 9.421875 -7.765625 L 9.1875 -9.046875 C 8.015625 -9.03125 7 -8.796875 6.171875 -8.40625 C 5.5 -8.9375 4.796875 -9.046875 4.3125 -9.046875 C 2.515625 -9.046875 1.15625 -7.5625 1.15625 -5.828125 C 1.15625 -4.703125 1.78125 -3.859375 1.8125 -3.828125 C 1.453125 -3.3125 1.234375 -2.75 1.234375 -2.125 C 1.234375 -1.40625 1.53125 -0.890625 1.75 -0.59375 C 0.6875 0.0625 0.53125 1.078125 0.53125 1.46875 C 0.53125 2.96875 2.421875 4.21875 4.828125 4.21875 C 7.265625 4.21875 9.15625 2.96875 9.15625 1.453125 C 9.15625 -1.40625 5.984375 -1.421875 5.125 -1.421875 L 3.453125 -1.421875 C 3.140625 -1.421875 2.3125 -1.421875 2.3125 -2.484375 C 2.3125 -2.890625 2.515625 -3.1875 2.515625 -3.1875 C 2.828125 -2.953125 3.46875 -2.609375 4.3125 -2.609375 C 6.03125 -2.609375 7.453125 -4.046875 7.453125 -5.828125 C 7.453125 -6.8125 7 -7.546875 6.8125 -7.78125 L 6.875 -7.78125 C 6.9375 -7.78125 7.8125 -7.84375 8.125 -7.84375 C 8.78125 -7.84375 8.84375 -7.828125 9.421875 -7.765625 Z M 5.984375 -5.828125 C 5.984375 -4.03125 4.859375 -3.734375 4.3125 -3.734375 C 3.609375 -3.734375 2.625 -4.171875 2.625 -5.828125 C 2.625 -7.625 3.765625 -7.90625 4.296875 -7.90625 C 5 -7.90625 5.984375 -7.484375 5.984375 -5.828125 Z M 7.6875 1.484375 C 7.6875 2.375 6.40625 3.078125 4.859375 3.078125 C 3.28125 3.078125 2 2.390625 2 1.46875 C 2 1.359375 2 0.078125 3.421875 0.078125 L 5.109375 0.078125 C 5.59375 0.078125 7.6875 0.078125 7.6875 1.484375 Z M 7.6875 1.484375 \"/>\n</symbol>\n<symbol overflow=\"visible\" id=\"glyph-1602528155538683-0-14\">\n<path style=\"stroke:none;\" d=\"M 18.015625 -14.328125 L 16.4375 -14.328125 L 14.703125 -7.90625 L 13.9375 -4.8125 C 13.578125 -3.28125 13.296875 -2.203125 13.265625 -1.671875 L 13.234375 -1.671875 C 13.203125 -2.234375 12.9375 -3.40625 12.59375 -4.734375 L 11.796875 -8 L 10.078125 -14.328125 L 8.34375 -14.328125 L 6.71875 -8.328125 L 5.890625 -5.046875 C 5.265625 -2.4375 5.25 -2.0625 5.203125 -1.65625 L 5.1875 -1.65625 C 5.1875 -1.78125 5.109375 -2.453125 4.53125 -4.875 L 3.640625 -8.453125 L 2.046875 -14.328125 L 0.265625 -14.328125 L 4.1875 0 L 5.90625 0 L 7.546875 -5.96875 L 8.359375 -9.25 C 8.921875 -11.5625 9.046875 -12.140625 9.09375 -12.65625 L 9.109375 -12.65625 C 9.109375 -12.578125 9.296875 -11.28125 10.09375 -8.265625 L 12.296875 0 L 14.09375 0 Z M 18.015625 -14.328125 \"/>\n</symbol>\n<symbol overflow=\"visible\" id=\"glyph-1602528155538683-0-15\">\n<path style=\"stroke:none;\" d=\"M 8.421875 0 L 8.421875 -14.328125 L 6.90625 -14.328125 L 6.90625 -8.015625 C 6.265625 -8.546875 5.203125 -9.046875 4.046875 -9.046875 C 2.171875 -9.046875 0.6875 -7 0.6875 -4.4375 C 0.6875 -1.875 2.140625 0.171875 3.984375 0.171875 C 5.40625 0.171875 6.359375 -0.59375 6.859375 -1.03125 L 6.859375 0 Z M 6.859375 -2.765625 C 6.859375 -2.484375 6.859375 -2.171875 6.21875 -1.609375 C 5.796875 -1.265625 5.3125 -1.09375 4.828125 -1.09375 C 3.71875 -1.09375 2.25 -1.921875 2.25 -4.421875 C 2.25 -7.015625 3.90625 -7.78125 5.046875 -7.78125 C 5.796875 -7.78125 6.421875 -7.421875 6.859375 -6.796875 Z M 6.859375 -2.765625 \"/>\n</symbol>\n<symbol overflow=\"visible\" id=\"glyph-1602528155538683-0-16\">\n<path style=\"stroke:none;\" d=\"M 9.6875 -3.953125 C 9.6875 -4.765625 9.4375 -5.828125 8.578125 -6.796875 C 7.71875 -7.71875 6.984375 -7.9375 5.28125 -8.390625 C 4.3125 -8.640625 3.703125 -8.796875 3.1875 -9.4375 C 2.828125 -9.890625 2.640625 -10.328125 2.640625 -10.890625 C 2.640625 -12.046875 3.640625 -13.296875 5.453125 -13.296875 C 6.359375 -13.296875 7.546875 -13.109375 8.734375 -12 L 9.03125 -13.65625 C 8.125 -14.1875 7.125 -14.671875 5.453125 -14.671875 C 2.78125 -14.671875 1.078125 -12.703125 1.078125 -10.703125 C 1.078125 -9.921875 1.296875 -9.03125 2.109375 -8.125 C 2.90625 -7.203125 3.828125 -6.96875 4.984375 -6.671875 C 5.453125 -6.546875 6.265625 -6.328125 6.40625 -6.265625 C 7.5625 -5.796875 8.125 -4.75 8.125 -3.765625 C 8.125 -2.453125 7.109375 -1.078125 5.3125 -1.078125 C 4.6875 -1.078125 2.875 -1.171875 1.15625 -2.75 L 0.875 -1.109375 C 2.5625 0.125 4.40625 0.328125 5.328125 0.328125 C 7.875 0.328125 9.6875 -1.671875 9.6875 -3.953125 Z M 9.6875 -3.953125 \"/>\n</symbol>\n<symbol overflow=\"visible\" id=\"glyph-1602528155538683-0-17\">\n<path style=\"stroke:none;\" d=\"M 8.640625 -8.875 L 7.015625 -8.875 C 5.265625 -4.15625 4.671875 -2.234375 4.625 -1.203125 L 4.609375 -1.203125 C 4.546875 -2.203125 3.640625 -4.6875 2.90625 -6.46875 L 1.9375 -8.875 L 0.265625 -8.875 L 3.921875 0 C 3.703125 0.625 3.359375 1.546875 3.265625 1.75 C 2.8125 2.90625 2.5 2.90625 2.171875 2.90625 C 2.09375 2.90625 1.421875 2.890625 0.6875 2.671875 L 0.8125 4.03125 C 1.328125 4.125 1.84375 4.1875 2.203125 4.1875 C 2.734375 4.1875 3.765625 4.1875 4.703125 1.65625 Z M 8.640625 -8.875 \"/>\n</symbol>\n<symbol overflow=\"visible\" id=\"glyph-1602528155538683-0-18\">\n<path style=\"stroke:none;\" d=\"M 9.296875 -4.46875 C 9.296875 -6.859375 8.0625 -9.046875 6.21875 -9.046875 C 4.921875 -9.046875 3.765625 -8.515625 3.078125 -7.953125 L 3.078125 -14.328125 L 1.546875 -14.328125 L 1.546875 0 L 3.125 0 L 3.125 -0.921875 C 3.90625 -0.171875 4.859375 0.171875 5.703125 0.171875 C 7.6875 0.171875 9.296875 -1.84375 9.296875 -4.46875 Z M 7.71875 -4.46875 C 7.71875 -1.859375 6.078125 -1.09375 4.9375 -1.09375 C 4.53125 -1.09375 4.09375 -1.203125 3.671875 -1.546875 C 3.125 -2.046875 3.125 -2.359375 3.125 -2.640625 L 3.125 -6.734375 C 3.578125 -7.3125 4.21875 -7.78125 5.125 -7.78125 C 6.34375 -7.78125 7.71875 -6.90625 7.71875 -4.46875 Z M 7.71875 -4.46875 \"/>\n</symbol>\n<symbol overflow=\"visible\" id=\"glyph-1602528155538683-0-19\">\n<path style=\"stroke:none;\" d=\"M 8.078125 -0.828125 L 7.953125 -2.1875 C 7.0625 -1.515625 6.03125 -1.140625 4.921875 -1.140625 C 3.3125 -1.140625 2.25 -2.546875 2.25 -4.46875 C 2.25 -5.953125 2.9375 -7.828125 5 -7.828125 C 6.140625 -7.828125 6.78125 -7.59375 7.71875 -6.96875 L 7.953125 -8.234375 C 7.953125 -8.390625 7 -8.796875 6.75 -8.875 C 6.078125 -9.125 5.203125 -9.125 4.984375 -9.125 C 2.296875 -9.125 0.6875 -6.796875 0.6875 -4.4375 C 0.6875 -1.96875 2.484375 0.171875 4.890625 0.171875 C 6.28125 0.171875 7.265625 -0.296875 8.078125 -0.828125 Z M 8.078125 -0.828125 \"/>\n</symbol>\n<symbol overflow=\"visible\" id=\"glyph-1602528155538683-0-20\">\n<path style=\"stroke:none;\" d=\"M 8.078125 -4.53125 C 8.078125 -5.203125 8.03125 -6.53125 7.375 -7.625 C 6.65625 -8.796875 5.46875 -9.125 4.578125 -9.125 C 2.4375 -9.125 0.625 -7.109375 0.625 -4.484375 C 0.625 -1.921875 2.5 0.171875 4.875 0.171875 C 5.796875 0.171875 6.9375 -0.109375 7.96875 -0.84375 C 7.96875 -0.921875 7.90625 -1.40625 7.90625 -1.40625 C 7.90625 -1.40625 7.84375 -2.09375 7.84375 -2.171875 C 6.859375 -1.359375 5.71875 -1.09375 4.890625 -1.09375 C 3.578125 -1.09375 2.140625 -2.203125 2.09375 -4.53125 Z M 6.71875 -5.65625 L 2.25 -5.65625 C 2.515625 -6.796875 3.421875 -7.875 4.578125 -7.875 C 4.890625 -7.875 6.34375 -7.828125 6.71875 -5.65625 Z M 6.71875 -5.65625 \"/>\n</symbol>\n<symbol overflow=\"visible\" id=\"glyph-1602528155538683-0-21\">\n<path style=\"stroke:none;\" d=\"M 8.90625 0 L 5.125 -4.578125 L 8.578125 -8.875 L 6.78125 -8.875 L 4.40625 -5.765625 L 1.9375 -8.875 L 0.109375 -8.875 L 3.671875 -4.578125 L 0 0 L 1.8125 0 L 4.40625 -3.640625 L 7.078125 0 Z M 8.90625 0 \"/>\n</symbol>\n<symbol overflow=\"visible\" id=\"glyph-1602528155538683-0-22\">\n<path style=\"stroke:none;\" d=\"M 13.21875 -7.140625 C 13.21875 -11.4375 10.390625 -14.671875 7.140625 -14.671875 C 3.90625 -14.671875 1.078125 -11.421875 1.078125 -7.140625 C 1.078125 -2.828125 3.953125 0.328125 7.140625 0.328125 C 7.875 0.328125 8.484375 0.171875 8.921875 0 L 10.65625 2.578125 L 12.6875 2.578125 L 10.328125 -0.765625 C 12.84375 -2.8125 13.21875 -5.578125 13.21875 -7.140625 Z M 11.53125 -7.140625 C 11.53125 -5.828125 11.3125 -3.609375 9.515625 -1.921875 L 8.03125 -4 L 6.265625 -4 L 8.15625 -1.140625 C 7.875 -1.03125 7.515625 -0.96875 7.140625 -0.96875 C 4.921875 -0.96875 2.765625 -3.3125 2.765625 -7.140625 C 2.765625 -10.96875 4.890625 -13.359375 7.140625 -13.359375 C 9.421875 -13.359375 11.53125 -10.953125 11.53125 -7.140625 Z M 11.53125 -7.140625 \"/>\n</symbol>\n<symbol overflow=\"visible\" id=\"glyph-1602528155538683-0-23\">\n<path style=\"stroke:none;\" d=\"M 10.21875 -12.953125 L 10.21875 -14.296875 L 1.8125 -14.296875 L 1.8125 0 L 3.546875 0 L 3.546875 -6.53125 L 9.421875 -6.53125 L 9.421875 -7.78125 L 3.546875 -7.78125 L 3.546875 -12.96875 L 6.078125 -12.96875 C 6.328125 -12.96875 6.5625 -12.953125 6.8125 -12.953125 Z M 10.21875 -12.953125 \"/>\n</symbol>\n<symbol overflow=\"visible\" id=\"glyph-1602528155538683-0-24\">\n<path style=\"stroke:none;\" d=\"M 8.453125 0 L 8.453125 -8.875 L 6.875 -8.875 L 6.875 -3.1875 C 6.875 -1.65625 5.765625 -1.03125 4.578125 -1.03125 C 3.21875 -1.03125 3.09375 -1.484375 3.09375 -2.328125 L 3.09375 -8.875 L 1.53125 -8.875 L 1.53125 -2.234375 C 1.53125 -0.625 2.09375 0.171875 3.515625 0.171875 C 4.21875 0.171875 5.796875 0 6.921875 -1.03125 L 6.921875 0 Z M 8.453125 0 \"/>\n</symbol>\n<symbol overflow=\"visible\" id=\"glyph-1602528155538683-0-25\">\n<path style=\"stroke:none;\" d=\"M 11.53125 -0.84375 L 11.53125 -6.015625 L 7.453125 -6.015625 L 7.453125 -4.734375 L 9.953125 -4.734375 L 9.953125 -1.546875 C 9.15625 -1.28125 8.296875 -1.15625 7.453125 -1.15625 C 6.203125 -1.15625 5.0625 -1.875 4.3125 -2.890625 C 3.390625 -4.109375 3 -5.59375 3 -7.078125 C 3 -8.59375 3.390625 -10.09375 4.3125 -11.296875 C 5.0625 -12.296875 6.203125 -13.03125 7.453125 -13.03125 C 8.125 -13.03125 8.765625 -12.953125 9.375 -12.71875 C 10 -12.5 10.5625 -12.125 11.078125 -11.71875 L 11.359375 -13.359375 C 10.765625 -13.6875 10.140625 -13.96875 9.484375 -14.125 C 8.796875 -14.296875 8.140625 -14.359375 7.453125 -14.359375 C 5.765625 -14.359375 4.1875 -13.53125 3.078125 -12.234375 C 1.859375 -10.796875 1.265625 -8.96875 1.265625 -7.078125 C 1.265625 -5.21875 1.859375 -3.390625 3.078125 -1.96875 C 4.1875 -0.65625 5.765625 0.171875 7.453125 0.171875 C 8.859375 0.171875 10.25 -0.171875 11.53125 -0.84375 Z M 11.53125 -0.84375 \"/>\n</symbol>\n<symbol overflow=\"visible\" id=\"glyph-1602528155538683-0-26\">\n<path style=\"stroke:none;\" d=\"M 8.453125 0 L 8.453125 -6.03125 C 8.453125 -7.328125 8.140625 -9.046875 5.796875 -9.046875 C 4.5 -9.046875 3.65625 -8.40625 3.0625 -7.703125 L 3.0625 -14.328125 L 1.53125 -14.328125 L 1.53125 0 L 3.09375 0 L 3.09375 -5 C 3.09375 -6.296875 3.59375 -7.78125 5 -7.78125 C 6.8125 -7.78125 6.875 -6.5625 6.875 -5.859375 L 6.875 0 Z M 8.453125 0 \"/>\n</symbol>\n</g>\n<clipPath id=\"clip-1602528155538683-1\">\n  <path d=\"M 203 243 L 379.148438 243 L 379.148438 268.933594 L 203 268.933594 Z M 203 243 \"/>\n</clipPath>\n</defs>\n<g id=\"surface1\">\n<path style=\"fill:none;stroke-width:0.3985;stroke-linecap:butt;stroke-linejoin:miter;stroke:rgb(0%,0%,0%);stroke-opacity:1;stroke-miterlimit:10;\" d=\"M 0.0009375 -25.593625 L 0.0009375 -216.824094 \" transform=\"matrix(1,0,0,-1,291.335,12.797)\"/>\n<path style=\"fill:none;stroke-width:0.31879;stroke-linecap:round;stroke-linejoin:round;stroke:rgb(0%,0%,0%);stroke-opacity:1;stroke-miterlimit:10;\" d=\"M -1.195149 1.594688 C -1.097492 0.997031 0.00016375 0.0985938 0.297039 0.0009375 C 0.00016375 -0.100625 -1.097492 -0.995156 -1.195149 -1.592812 \" transform=\"matrix(0,1,1,0,291.335,229.62093)\"/>\n<path style=\"fill:none;stroke-width:0.3985;stroke-linecap:butt;stroke-linejoin:miter;stroke:rgb(0%,0%,0%);stroke-opacity:1;stroke-miterlimit:10;\" d=\"M 0.0009375 -217.281125 L 0.0009375 -26.054563 \" transform=\"matrix(1,0,0,-1,291.335,12.797)\"/>\n<path style=\"fill:none;stroke-width:0.31879;stroke-linecap:round;stroke-linejoin:round;stroke:rgb(0%,0%,0%);stroke-opacity:1;stroke-miterlimit:10;\" d=\"M -1.196785 1.592812 C -1.095223 0.995156 -0.0014725 0.100625 0.299309 -0.0009375 C -0.0014725 -0.0985938 -1.095223 -0.997031 -1.196785 -1.594688 \" transform=\"matrix(0,-1,-1,0,291.335,38.85009)\"/>\n<path style=\"fill:none;stroke-width:0.3985;stroke-linecap:butt;stroke-linejoin:miter;stroke:rgb(0%,0%,0%);stroke-opacity:1;stroke-miterlimit:10;\" d=\"M -44.917031 -217.281125 L -165.752969 -147.589719 \" transform=\"matrix(1,0,0,-1,291.335,12.797)\"/>\n<path style=\"fill:none;stroke-width:0.31879;stroke-linecap:round;stroke-linejoin:round;stroke:rgb(0%,0%,0%);stroke-opacity:1;stroke-miterlimit:10;\" d=\"M -1.196736 1.593912 C -1.096484 0.997863 -0.00175612 0.100532 0.300021 -0.000497961 C 0.00146881 -0.100532 -1.096767 -0.995469 -1.194196 -1.592791 \" transform=\"matrix(-0.86624,-0.49959,-0.49959,0.86624,125.58386,160.3886)\"/>\n<g style=\"fill:rgb(0%,0%,0%);fill-opacity:1;\">\n  <use xlink:href=\"#glyph-1602528155538683-0-1\" x=\"84.881\" y=\"212.997\"/>\n  <use xlink:href=\"#glyph-1602528155538683-0-2\" x=\"97.299175\" y=\"212.997\"/>\n  <use xlink:href=\"#glyph-1602528155538683-0-3\" x=\"107.010559\" y=\"212.997\"/>\n  <use xlink:href=\"#glyph-1602528155538683-0-4\" x=\"122.404136\" y=\"212.997\"/>\n  <use xlink:href=\"#glyph-1602528155538683-0-5\" x=\"132.404796\" y=\"212.997\"/>\n  <use xlink:href=\"#glyph-1602528155538683-0-6\" x=\"137.012538\" y=\"212.997\"/>\n  <use xlink:href=\"#glyph-1602528155538683-0-7\" x=\"141.62028\" y=\"212.997\"/>\n  <use xlink:href=\"#glyph-1602528155538683-0-8\" x=\"150.939076\" y=\"212.997\"/>\n  <use xlink:href=\"#glyph-1602528155538683-0-5\" x=\"157.964333\" y=\"212.997\"/>\n  <use xlink:href=\"#glyph-1602528155538683-0-2\" x=\"162.572075\" y=\"212.997\"/>\n  <use xlink:href=\"#glyph-1602528155538683-0-9\" x=\"172.28346\" y=\"212.997\"/>\n</g>\n<path style=\"fill:none;stroke-width:0.3985;stroke-linecap:butt;stroke-linejoin:miter;stroke:rgb(0%,0%,0%);stroke-opacity:1;stroke-miterlimit:10;\" d=\"M -166.170937 -95.882688 L -44.752969 -25.824094 \" transform=\"matrix(1,0,0,-1,291.335,12.797)\"/>\n<path style=\"fill:none;stroke-width:0.31879;stroke-linecap:round;stroke-linejoin:round;stroke:rgb(0%,0%,0%);stroke-opacity:1;stroke-miterlimit:10;\" d=\"M -1.193977 1.595179 C -1.096676 0.997828 -0.000570482 0.0992574 0.297964 -0.000842568 C 0.001497 -0.100378 -1.096824 -0.995532 -1.193822 -1.59352 \" transform=\"matrix(0.86612,-0.49977,-0.49977,-0.86612,246.58135,38.62084)\"/>\n<g style=\"fill:rgb(0%,0%,0%);fill-opacity:1;\">\n  <use xlink:href=\"#glyph-1602528155538683-0-10\" x=\"123.541\" y=\"65.801\"/>\n</g>\n<g style=\"fill:rgb(0%,0%,0%);fill-opacity:1;\">\n  <use xlink:href=\"#glyph-1602528155538683-0-7\" x=\"135.401286\" y=\"65.801\"/>\n</g>\n<g style=\"fill:rgb(0%,0%,0%);fill-opacity:1;\">\n  <use xlink:href=\"#glyph-1602528155538683-0-11\" x=\"144.182857\" y=\"65.801\"/>\n  <use xlink:href=\"#glyph-1602528155538683-0-12\" x=\"150.794864\" y=\"65.801\"/>\n  <use xlink:href=\"#glyph-1602528155538683-0-5\" x=\"158.233371\" y=\"65.801\"/>\n  <use xlink:href=\"#glyph-1602528155538683-0-9\" x=\"162.841113\" y=\"65.801\"/>\n  <use xlink:href=\"#glyph-1602528155538683-0-13\" x=\"172.841773\" y=\"65.801\"/>\n</g>\n<path style=\"fill:none;stroke-width:0.3985;stroke-linecap:butt;stroke-linejoin:miter;stroke:rgb(0%,0%,0%);stroke-opacity:1;stroke-miterlimit:10;\" d=\"M -69.67875 -12.597531 L 69.680625 -12.597531 L 69.680625 12.597781 L -69.67875 12.597781 Z M -69.67875 -12.597531 \" transform=\"matrix(1,0,0,-1,291.335,12.797)\"/>\n<g style=\"fill:rgb(0%,0%,0%);fill-opacity:1;\">\n  <use xlink:href=\"#glyph-1602528155538683-0-14\" x=\"224.977\" y=\"17.859\"/>\n  <use xlink:href=\"#glyph-1602528155538683-0-5\" x=\"243.283993\" y=\"17.859\"/>\n  <use xlink:href=\"#glyph-1602528155538683-0-11\" x=\"247.891735\" y=\"17.859\"/>\n  <use xlink:href=\"#glyph-1602528155538683-0-5\" x=\"254.503741\" y=\"17.859\"/>\n  <use xlink:href=\"#glyph-1602528155538683-0-9\" x=\"259.111483\" y=\"17.859\"/>\n  <use xlink:href=\"#glyph-1602528155538683-0-13\" x=\"269.112143\" y=\"17.859\"/>\n</g>\n<g style=\"fill:rgb(0%,0%,0%);fill-opacity:1;\">\n  <use xlink:href=\"#glyph-1602528155538683-0-15\" x=\"285.290896\" y=\"17.859\"/>\n  <use xlink:href=\"#glyph-1602528155538683-0-5\" x=\"295.291556\" y=\"17.859\"/>\n  <use xlink:href=\"#glyph-1602528155538683-0-7\" x=\"299.899298\" y=\"17.859\"/>\n  <use xlink:href=\"#glyph-1602528155538683-0-13\" x=\"309.218094\" y=\"17.859\"/>\n  <use xlink:href=\"#glyph-1602528155538683-0-11\" x=\"318.929478\" y=\"17.859\"/>\n  <use xlink:href=\"#glyph-1602528155538683-0-7\" x=\"325.541485\" y=\"17.859\"/>\n  <use xlink:href=\"#glyph-1602528155538683-0-3\" x=\"334.860281\" y=\"17.859\"/>\n  <use xlink:href=\"#glyph-1602528155538683-0-12\" x=\"350.253859\" y=\"17.859\"/>\n</g>\n<g clip-path=\"url(#clip-1602528155538683-1)\" clip-rule=\"nonzero\">\n<path style=\"fill:none;stroke-width:0.3985;stroke-linecap:butt;stroke-linejoin:miter;stroke:rgb(0%,0%,0%);stroke-opacity:1;stroke-miterlimit:10;\" d=\"M -87.61625 -12.753375 L 87.614219 -12.753375 L 87.614219 12.754437 L -87.61625 12.754437 Z M -87.61625 -12.753375 \" transform=\"matrix(1,0,0,-1,291.335,255.981)\"/>\n</g>\n<g style=\"fill:rgb(0%,0%,0%);fill-opacity:1;\">\n  <use xlink:href=\"#glyph-1602528155538683-0-16\" x=\"207.042\" y=\"261.219\"/>\n  <use xlink:href=\"#glyph-1602528155538683-0-17\" x=\"217.827835\" y=\"261.219\"/>\n  <use xlink:href=\"#glyph-1602528155538683-0-3\" x=\"226.754044\" y=\"261.219\"/>\n  <use xlink:href=\"#glyph-1602528155538683-0-18\" x=\"242.147621\" y=\"261.219\"/>\n</g>\n<g style=\"fill:rgb(0%,0%,0%);fill-opacity:1;\">\n  <use xlink:href=\"#glyph-1602528155538683-0-2\" x=\"252.685507\" y=\"261.219\"/>\n  <use xlink:href=\"#glyph-1602528155538683-0-6\" x=\"262.396891\" y=\"261.219\"/>\n  <use xlink:href=\"#glyph-1602528155538683-0-5\" x=\"267.004633\" y=\"261.219\"/>\n  <use xlink:href=\"#glyph-1602528155538683-0-19\" x=\"271.612375\" y=\"261.219\"/>\n</g>\n<g style=\"fill:rgb(0%,0%,0%);fill-opacity:1;\">\n  <use xlink:href=\"#glyph-1602528155538683-0-20\" x=\"286.716677\" y=\"261.219\"/>\n  <use xlink:href=\"#glyph-1602528155538683-0-21\" x=\"295.35361\" y=\"261.219\"/>\n  <use xlink:href=\"#glyph-1602528155538683-0-4\" x=\"304.279819\" y=\"261.219\"/>\n</g>\n<g style=\"fill:rgb(0%,0%,0%);fill-opacity:1;\">\n  <use xlink:href=\"#glyph-1602528155538683-0-11\" x=\"313.743253\" y=\"261.219\"/>\n  <use xlink:href=\"#glyph-1602528155538683-0-20\" x=\"320.35526\" y=\"261.219\"/>\n  <use xlink:href=\"#glyph-1602528155538683-0-12\" x=\"328.992193\" y=\"261.219\"/>\n  <use xlink:href=\"#glyph-1602528155538683-0-12\" x=\"336.4307\" y=\"261.219\"/>\n  <use xlink:href=\"#glyph-1602528155538683-0-5\" x=\"343.869207\" y=\"261.219\"/>\n  <use xlink:href=\"#glyph-1602528155538683-0-2\" x=\"348.476949\" y=\"261.219\"/>\n  <use xlink:href=\"#glyph-1602528155538683-0-9\" x=\"358.188334\" y=\"261.219\"/>\n  <use xlink:href=\"#glyph-1602528155538683-0-12\" x=\"368.188993\" y=\"261.219\"/>\n</g>\n<path style=\"fill:none;stroke-width:0.3985;stroke-linecap:butt;stroke-linejoin:miter;stroke:rgb(0%,0%,0%);stroke-opacity:1;stroke-miterlimit:10;\" d=\"M -80.360781 -12.670844 L 80.361875 -12.670844 L 80.361875 12.669 L -80.360781 12.669 Z M -80.360781 -12.670844 \" transform=\"matrix(1,0,0,-1,80.56,134.419)\"/>\n<g style=\"fill:rgb(0%,0%,0%);fill-opacity:1;\">\n  <use xlink:href=\"#glyph-1602528155538683-0-22\" x=\"3.52\" y=\"139.739\"/>\n</g>\n<g style=\"fill:rgb(0%,0%,0%);fill-opacity:1;\">\n  <use xlink:href=\"#glyph-1602528155538683-0-23\" x=\"24.306495\" y=\"139.739\"/>\n</g>\n<g style=\"fill:rgb(0%,0%,0%);fill-opacity:1;\">\n  <use xlink:href=\"#glyph-1602528155538683-0-24\" x=\"34.823718\" y=\"139.739\"/>\n  <use xlink:href=\"#glyph-1602528155538683-0-9\" x=\"44.824377\" y=\"139.739\"/>\n  <use xlink:href=\"#glyph-1602528155538683-0-19\" x=\"54.825037\" y=\"139.739\"/>\n  <use xlink:href=\"#glyph-1602528155538683-0-8\" x=\"63.461971\" y=\"139.739\"/>\n  <use xlink:href=\"#glyph-1602528155538683-0-5\" x=\"70.487227\" y=\"139.739\"/>\n  <use xlink:href=\"#glyph-1602528155538683-0-2\" x=\"75.094969\" y=\"139.739\"/>\n  <use xlink:href=\"#glyph-1602528155538683-0-9\" x=\"84.806354\" y=\"139.739\"/>\n</g>\n<g style=\"fill:rgb(0%,0%,0%);fill-opacity:1;\">\n  <use xlink:href=\"#glyph-1602528155538683-0-25\" x=\"101.274382\" y=\"139.739\"/>\n  <use xlink:href=\"#glyph-1602528155538683-0-11\" x=\"114.229782\" y=\"139.739\"/>\n  <use xlink:href=\"#glyph-1602528155538683-0-7\" x=\"120.841789\" y=\"139.739\"/>\n  <use xlink:href=\"#glyph-1602528155538683-0-4\" x=\"130.160585\" y=\"139.739\"/>\n  <use xlink:href=\"#glyph-1602528155538683-0-26\" x=\"140.161245\" y=\"139.739\"/>\n  <use xlink:href=\"#glyph-1602528155538683-0-12\" x=\"150.161904\" y=\"139.739\"/>\n</g>\n</g>\n</svg>\n\n"
     },
     "metadata": {},
     "execution_count": 16
    }
   ],
   "source": [
    "g = DiGraph(3)\n",
    "add_edge!(g, 1, 2)\n",
    "add_edge!(g, 2, 1)\n",
    "add_edge!(g, 2, 3)\n",
    "add_edge!(g, 3, 1)\n",
    "TikzGraphs.plot(g, node_style=\"draw\", options=\"scale=2, font=\\\\huge\\\\sf\", TikzGraphs.Layouts.SpringElectrical(charge=25,dist=35), [\"Wiring diagrams\", \"Symbolic expressions\", \"Q Function Graphs\"], edge_labels=Dict((2,3)=>\"Compilation\", (3,1)=>\"Parsing\"))"
   ]
  },
  {
   "source": [
    "## Theories and Signatures\n",
    "\n",
    "An algebraic structure consists of 3 things:\n",
    "\n",
    "1. **Sorts**: what \"sort\" of things is it about\n",
    "1. **Operations**: what \"actions\" can be taken on the sorts\n",
    "1. **Equations**: what \"laws\" must hold for the use of the operations on the sorts\n",
    "\n",
    "A **signature** is the pairing of sorts and operations.  A **theory** is a pairing of the signature and the equations."
   ],
   "cell_type": "markdown",
   "metadata": {}
  },
  {
   "cell_type": "code",
   "execution_count": 20,
   "metadata": {},
   "outputs": [
    {
     "output_type": "stream",
     "name": "stderr",
     "text": [
      "WARNING: replacing module Sandox.\n"
     ]
    },
    {
     "output_type": "execute_result",
     "data": {
      "text/plain": [
       "Main.Sandox"
      ]
     },
     "metadata": {},
     "execution_count": 20
    }
   ],
   "source": [
    "module Sandox\n",
    "export dom, codom, id, compose\n",
    "\n",
    "using Catlab\n",
    "\n",
    "@signature Category(Ob,Hom) begin\n",
    "    Ob::TYPE\n",
    "    Hom(dom::Ob,codom::Ob)::TYPE\n",
    "\n",
    "    id(A::Ob)::Hom(A,A)\n",
    "    compose(f::Hom(A,B),g::Hom(B,C))::Hom(A,C) <= (A::Ob,B::Ob,C::Ob)\n",
    "end\n",
    "\n",
    "end"
   ]
  },
  {
   "source": [
    "![](https://raw.githubusercontent.com/mu-ziq/CatML.jl/wip/docs/gh-deploy/dist/images/maana-q-gats/theory-signature.png)"
   ],
   "cell_type": "markdown",
   "metadata": {}
  },
  {
   "source": [
    "## Theory: `Category`\n",
    "\n",
    "* **Service URI**: `/maana-cat-category`\n",
    "\n",
    "![](https://raw.githubusercontent.com/mu-ziq/CatML.jl/wip/docs/gh-deploy/dist/images/maana-q-gats/category-theory.png)"
   ],
   "cell_type": "markdown",
   "metadata": {}
  },
  {
   "source": [
    "### Equation: `isAssociative`\n",
    "\n",
    "![](https://raw.githubusercontent.com/mu-ziq/CatML.jl/wip/docs/gh-deploy/dist/images/maana-q-gats/category-is-associative.png)"
   ],
   "cell_type": "markdown",
   "metadata": {}
  },
  {
   "source": [
    "### Equation: `isUnital`\n",
    "\n",
    "![](https://raw.githubusercontent.com/mu-ziq/CatML.jl/wip/docs/gh-deploy/dist/images/maana-q-gats/category-is-unital.png)"
   ],
   "cell_type": "markdown",
   "metadata": {}
  },
  {
   "source": [
    "## Theory: `Monoid`\n",
    "\n",
    "* **Service URI**: `/maana-cat-monoid`\n",
    "\n",
    "![](https://raw.githubusercontent.com/mu-ziq/CatML.jl/wip/docs/gh-deploy/dist/images/maana-q-gats/monoid-theory.png)"
   ],
   "cell_type": "markdown",
   "metadata": {}
  },
  {
   "source": [
    "### Equation: `isAssociative`\n",
    "\n",
    "![](https://raw.githubusercontent.com/mu-ziq/CatML.jl/wip/docs/gh-deploy/dist/images/maana-q-gats/monoid-is-associative.png)"
   ],
   "cell_type": "markdown",
   "metadata": {}
  },
  {
   "source": [
    "### Equation: `isUnital`\n",
    "\n",
    "![](https://raw.githubusercontent.com/mu-ziq/CatML.jl/wip/docs/gh-deploy/dist/images/maana-q-gats/monoid-is-unital.png)"
   ],
   "cell_type": "markdown",
   "metadata": {}
  },
  {
   "source": [
    "## Algebraic Theory Instances"
   ],
   "cell_type": "markdown",
   "metadata": {}
  },
  {
   "source": [
    "### Smart CRUD\n",
    "\n",
    "![](https://raw.githubusercontent.com/mu-ziq/CatML.jl/wip/docs/gh-deploy/dist/images/maana-q-gats/theory-smart-crud.png)"
   ],
   "cell_type": "markdown",
   "metadata": {}
  },
  {
   "source": [
    "### Graph*i*QL\n",
    "\n",
    "![](https://raw.githubusercontent.com/mu-ziq/CatML.jl/wip/docs/gh-deploy/dist/images/maana-q-gats/algebraic-instance-graphiql.png)"
   ],
   "cell_type": "markdown",
   "metadata": {}
  },
  {
   "source": [
    "### GraphQL"
   ],
   "cell_type": "markdown",
   "metadata": {}
  },
  {
   "source": [
    "```graphql\n",
    "mutation persist($theorys: [TheoryAsInput]) {\n",
    "  persistTheorys(theorys: $theorys)\n",
    "}\n",
    "\n",
    "fragment theoryFields on Theory {\n",
    "  id\n",
    "  signature {\n",
    "    ...signatureFields\n",
    "  }\n",
    "  equations {\n",
    "    ...equationFields\n",
    "  }\n",
    "}\n",
    "\n",
    "fragment signatureFields on Signature {\n",
    "  id\n",
    "  sorts {\n",
    "    id\n",
    "  }\n",
    "  operations {\n",
    "    id\n",
    "  }\n",
    "}\n",
    "\n",
    "fragment equationFields on Equation {\n",
    "  id\n",
    "}\n",
    "\n",
    "query get {\n",
    "  allTheorys {\n",
    "    ...theoryFields\n",
    "  }\n",
    "}\n",
    "```"
   ],
   "cell_type": "markdown",
   "metadata": {}
  },
  {
   "source": [
    "### JSON"
   ],
   "cell_type": "markdown",
   "metadata": {}
  },
  {
   "source": [
    "```json\n",
    "{\"theorys\":[{\n",
    "    \"id\": \"/maana-cat-monoid\", \n",
    "    \"signature\": {\n",
    "      \"id\": \"/maana-cat-monoid\", \n",
    "      \"sorts\": [\n",
    "        {\"id\": \"/maana-cat-monoid/kind/M\"}\n",
    "      ], \n",
    "      \"operations\": [\n",
    "        {\"id\": \"/maana-cat-monoid/fn/e\"},\n",
    "        {\"id\": \"/maana-cat-monoid/fn/m\"}\n",
    "      ]},\n",
    "    \"equations\": [\n",
    "      {\"id\": \"/maana-cat-monoid/fn/isAssociative\"},\n",
    "      {\"id\": \"/maana-cat-monoid/fn/isUnital\"},\n",
    "      {\"id\": \"/maana-cat-monoid/fn/isEqual\"}\n",
    "    ]\n",
    "},{\n",
    "    \"id\": \"/maana-cat-category\", \n",
    "    \"signature\": {\n",
    "      \"id\": \"/maana-cat-category\", \n",
    "      \"sorts\": [\n",
    "        {\"id\": \"/maana-cat-category/kind/Ob\"},\n",
    "        {\"id\": \"/maana-cat-category/kind/Hom\"}\n",
    "      ], \n",
    "      \"operations\": [\n",
    "        {\"id\": \"/maana-cat-category/fn/id\"},\n",
    "        {\"id\": \"/maana-cat-category/fn/compose\"},\n",
    "        {\"id\": \"/maana-cat-category/fn/apply\"}\n",
    "      ]},\n",
    "    \"equations\": [\n",
    "      {\"id\": \"/maana-cat-category/fn/isAssociative\"},\n",
    "      {\"id\": \"/maana-cat-category/fn/isUnital\"},\n",
    "      {\"id\": \"/maana-cat-category/fn/isEqual\"}\n",
    "    ]\n",
    "}]}\n",
    "```"
   ],
   "cell_type": "markdown",
   "metadata": {}
  },
  {
   "source": [
    "### Theory DataView\n",
    "\n",
    "![](https://raw.githubusercontent.com/mu-ziq/CatML.jl/wip/docs/gh-deploy/dist/images/maana-q-gats/theory-dataview.png)"
   ],
   "cell_type": "markdown",
   "metadata": {}
  },
  {
   "source": [
    "### Signature DataView\n",
    "\n",
    "![](https://raw.githubusercontent.com/mu-ziq/CatML.jl/wip/docs/gh-deploy/dist/images/maana-q-gats/signature-dataview.png)"
   ],
   "cell_type": "markdown",
   "metadata": {}
  },
  {
   "source": [
    "### Equation DataView\n",
    "\n",
    "![](https://raw.githubusercontent.com/mu-ziq/CatML.jl/wip/docs/gh-deploy/dist/images/maana-q-gats/equation-dataview.png)"
   ],
   "cell_type": "markdown",
   "metadata": {}
  },
  {
   "source": [
    "### Sort DataView\n",
    "\n",
    "![](https://raw.githubusercontent.com/mu-ziq/CatML.jl/wip/docs/gh-deploy/dist/images/maana-q-gats/sort-dataview.png)"
   ],
   "cell_type": "markdown",
   "metadata": {}
  },
  {
   "source": [
    "### Operation DataView\n",
    "\n",
    "![](https://raw.githubusercontent.com/mu-ziq/CatML.jl/wip/docs/gh-deploy/dist/images/maana-q-gats/operation-dataview.png)"
   ],
   "cell_type": "markdown",
   "metadata": {}
  },
  {
   "source": [
    "## Signatures Define Instances"
   ],
   "cell_type": "markdown",
   "metadata": {}
  },
  {
   "source": [
    "To operate within a theory means to construct (or generate) *instances*.  These theories provide *stub* functions that you must implement in a context-appropriate way.  These stub functions are provided as **workspace templates** that you *clone* to then provide your logic."
   ],
   "cell_type": "markdown",
   "metadata": {}
  },
  {
   "source": [
    "### Workspace Templates\n",
    "\n",
    "![](https://raw.githubusercontent.com/mu-ziq/CatML.jl/wip/docs/gh-deploy/dist/images/maana-q-gats/monoid-template.png)\n",
    "\n",
    "![](https://raw.githubusercontent.com/mu-ziq/CatML.jl/wip/docs/gh-deploy/dist/images/maana-q-gats/category-template.png)"
   ],
   "cell_type": "markdown",
   "metadata": {}
  },
  {
   "source": [
    "### Instance: Category of Matrices\n",
    "\n",
    "Instance of `Category` with *(element type, dimension)* pairs as objects and *matrices* as morphisms."
   ],
   "cell_type": "markdown",
   "metadata": {}
  },
  {
   "cell_type": "code",
   "execution_count": 32,
   "metadata": {},
   "outputs": [],
   "source": [
    "using Catlab.GAT\n",
    "import Catlab.Theories: Ob, Hom, dom, codom, compose, ⋅, ∘, id\n",
    "using LinearAlgebra: I\n",
    "\n",
    "struct MatrixDom\n",
    "  eltype::Type\n",
    "  dim::Int\n",
    "end\n",
    "\n",
    "@instance Category{MatrixDom, Matrix} begin\n",
    "  dom(M::Matrix) = MatrixDom(eltype(M), size(M,1))\n",
    "  codom(M::Matrix) = MatrixDoma(eltype(M), size(M,2))\n",
    "\n",
    "  id(m::MatrixDom) = Matrix{m.eltype}(I, m.dim, m.dim)\n",
    "  compose(M::Matrix, N::Matrix) = M*N\n",
    "end"
   ]
  },
  {
   "source": [
    "M = [0 1;-1 0]"
   ],
   "cell_type": "code",
   "metadata": {},
   "execution_count": 34,
   "outputs": [
    {
     "output_type": "execute_result",
     "data": {
      "text/plain": [
       "2×2 Array{Int64,2}:\n",
       "  0  1\n",
       " -1  0"
      ]
     },
     "metadata": {},
     "execution_count": 34
    }
   ]
  },
  {
   "cell_type": "code",
   "execution_count": 35,
   "metadata": {},
   "outputs": [
    {
     "output_type": "execute_result",
     "data": {
      "text/plain": [
       "2×2 Array{Int64,2}:\n",
       " -1   0\n",
       "  0  -1"
      ]
     },
     "metadata": {},
     "execution_count": 35
    }
   ],
   "source": [
    "compose(M,M)"
   ]
  },
  {
   "cell_type": "code",
   "execution_count": 36,
   "metadata": {},
   "outputs": [
    {
     "output_type": "execute_result",
     "data": {
      "text/plain": [
       "2×2 Array{Int64,2}:\n",
       " 1  0\n",
       " 0  1"
      ]
     },
     "metadata": {},
     "execution_count": 36
    }
   ],
   "source": [
    "id(dom(M))"
   ]
  },
  {
   "cell_type": "code",
   "execution_count": 48,
   "metadata": {},
   "outputs": [
    {
     "output_type": "execute_result",
     "data": {
      "text/plain": [
       "2"
      ]
     },
     "metadata": {},
     "execution_count": 48
    }
   ],
   "source": [
    "size(M,2)"
   ]
  },
  {
   "source": [
    "## Signatures Define Symbolic Expressions"
   ],
   "cell_type": "markdown",
   "metadata": {}
  }
 ],
 "metadata": {
  "@webio": {
   "lastCommId": null,
   "lastKernelId": null
  },
  "kernelspec": {
   "display_name": "Julia 1.5.2",
   "language": "julia",
   "name": "julia-1.5"
  },
  "language_info": {
   "file_extension": ".jl",
   "mimetype": "application/julia",
   "name": "julia",
   "version": "3.8.6-final"
  }
 },
 "nbformat": 4,
 "nbformat_minor": 1
}